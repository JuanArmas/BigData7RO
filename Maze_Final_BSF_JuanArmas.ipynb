{
  "nbformat": 4,
  "nbformat_minor": 0,
  "metadata": {
    "colab": {
      "provenance": [],
      "authorship_tag": "ABX9TyObubl41Pypcqkx9NZERGRS",
      "include_colab_link": true
    },
    "kernelspec": {
      "name": "python3",
      "display_name": "Python 3"
    },
    "language_info": {
      "name": "python"
    }
  },
  "cells": [
    {
      "cell_type": "markdown",
      "metadata": {
        "id": "view-in-github",
        "colab_type": "text"
      },
      "source": [
        "<a href=\"https://colab.research.google.com/github/JuanArmas/BigData7RO/blob/main/Maze_Final_BSF_JuanArmas.ipynb\" target=\"_parent\"><img src=\"https://colab.research.google.com/assets/colab-badge.svg\" alt=\"Open In Colab\"/></a>"
      ]
    },
    {
      "cell_type": "markdown",
      "source": [
        "# Laberinto__Juan Armas Alemán\n",
        "\n",
        "# Explicacion del código."
      ],
      "metadata": {
        "id": "1zl1HviIOdAh"
      }
    },
    {
      "cell_type": "markdown",
      "source": [
        "<h1> Importación de bibliotecas y módulos\n",
        "\n",
        "- Importa la biblioteca **matplotlib** para importar los módulos pyplot (que nos permitirá crear la visualización del laberinto) y al módulo **colors** para acceder a su submódulo, **ListedColorMap**, el cual nos dejará jugar con los colores del laberinto.\n",
        "\n",
        "- Importa la biblioteca **numpy** que nos facilitará el uso de las distintas matrices bidimensionales y para las funciones que usaremos para la BFS.\n",
        "\n",
        "- Módulo de la biblioteca Collections, importamos **deque** para poder crear la cola que necesitaremos para ir almancenando la lista de nodos explorados."
      ],
      "metadata": {
        "id": "r2iE9siAA1kp"
      }
    },
    {
      "cell_type": "code",
      "source": [
        "import matplotlib.pyplot as plt\n",
        "from matplotlib.colors import ListedColormap\n",
        "import numpy as np\n",
        "from collections import deque"
      ],
      "metadata": {
        "id": "r9yOKfIEQYin"
      },
      "execution_count": null,
      "outputs": []
    },
    {
      "cell_type": "markdown",
      "source": [
        "<h1> Creación de la clase Place\n",
        "\n",
        "Crearemos objetos de tipo Place con coordenadas de fila y columna que representa una posición en el laberinto y que usaremos para almacenarlas como atributos del objeto para su uso"
      ],
      "metadata": {
        "id": "QvEL15NYAiJv"
      }
    },
    {
      "cell_type": "code",
      "source": [
        "class Place:\n",
        "    def __init__(self, fila, columna):\n",
        "        self.fila = fila\n",
        "        self.columna = columna"
      ],
      "metadata": {
        "id": "eFcfMnKIAKgG"
      },
      "execution_count": null,
      "outputs": []
    },
    {
      "cell_type": "markdown",
      "source": [
        "<h1> Inicializamos Laberinto:\n",
        "\n",
        "Creamos la matriz laberinto de 10x10 inicializado a cero.\n",
        "\n",
        "Marcamos los bordes de dicho laberinto igualandolo a 1, de esta manera, más adelante indicaremos los colores según el valor de la casilla.\n",
        "\n",
        "Finalmente pedimos a la función que nos devuelva el resultado para poder llamarla cuando haga falta."
      ],
      "metadata": {
        "id": "hmCXABWrAjCw"
      }
    },
    {
      "cell_type": "code",
      "source": [
        "def inicializar_laberinto():\n",
        "    laberinto = np.zeros((10, 10), dtype=int)\n",
        "    laberinto[:, 0] = 1\n",
        "    laberinto[:, -1] = 1\n",
        "    laberinto[0, :] = 1\n",
        "    laberinto[-1, :] = 1\n",
        "    return laberinto"
      ],
      "metadata": {
        "id": "7TmpBLlXAK45"
      },
      "execution_count": null,
      "outputs": []
    },
    {
      "cell_type": "markdown",
      "source": [
        "<h1> Definimos punto de inicio y de fin\n",
        "\n",
        "A la función le pasamos por parámetro la matriz, y las coordenadas de inicio y de fin de recorrido. Esta función se encarga de reconocer esas coordenadas y asignarles un valor numérico para poder darle el color necesario en todo momento."
      ],
      "metadata": {
        "id": "R7TFIq9eAkD4"
      }
    },
    {
      "cell_type": "code",
      "source": [
        "def marcar_puntos_inicio_y_fin(laberinto, inicio, objetivo):\n",
        "    laberinto[inicio] = 2\n",
        "    laberinto[objetivo] = 3"
      ],
      "metadata": {
        "id": "FpSHiNRBAL65"
      },
      "execution_count": null,
      "outputs": []
    },
    {
      "cell_type": "markdown",
      "source": [
        "<h1> Marcamos los obstáculos\n",
        "\n",
        "La función de este método es igual que la del anterior. Le pasamos por parámetro la matriz y una lista de tuplas donde estarán reflejadas las coordenadas de cada muro interior, los cuales las igualamos a 1 dentro de este método para que tenga el color de un muro."
      ],
      "metadata": {
        "id": "5JaW9lD0AkqF"
      }
    },
    {
      "cell_type": "code",
      "source": [
        "def marcar_obstaculos(laberinto, obstaculos):\n",
        "    for obstaculo in obstaculos:\n",
        "        laberinto[obstaculo] = 1\n"
      ],
      "metadata": {
        "id": "RrFQPlH2ANOv"
      },
      "execution_count": null,
      "outputs": []
    },
    {
      "cell_type": "markdown",
      "source": [
        "<h1> Busqueda del camino óptimo\n",
        "\n",
        "Aquí es donde recorreremos el laberinto usando BFS (Búsqueda en amplitud) desde el punto de inicio hasta el punto objetivo.\n",
        "\n",
        "1) Generamos las filas y columnas que usaremos en la clase place.\n",
        "\n",
        "2) Se crea la cola donde se irá almacenando las casillas por las que se ha pasado ya,  inicializado con el punto de inicio.\n",
        "\n",
        "3) Se crea una colección que almacena las ubicaciones por las que ha pasado en \"visitados\". La diferencia con la cola, es que los posibles movimientos se cotejan con los almacenados aquí para evitar volver a pasar dos veces por el mismo sitio.\n",
        "\n",
        "4) Matriz de marcadores \"MARK\" para recordar el camino realizado desde el incio hasta el punto actual.\n",
        "\n",
        "5) El bucle es donde se auna todo lo anteriormente recogido para sacar los próximos movimientos a evaluar, efectuando la búsqueda en amplitud. Primero se obtiene el primer elemento a explorar de la cola con cola.popleft(), continúa adquiriendo las coordenadas de la celda actual y coteja esta celda con la celda objetivo, si es True, finaliza el bucle y muestra resultados. En caso de ser False, entra en el siguiente bucle en el que se exploran todas las celdas aledañas (nr(new row) y nc(new column)), si las nuevas celdas no son una pared (que no tengan valor 1), y no han sido visitadas, se agrega la nueva ubicacion para su exploración, se marca como visitada y se almacena en \"MARK\" para rastrear esa ruta.\n",
        "\n",
        "6) Por último entramos en una verificación que resuelve el laberinto. El agente sigue las flechas hasta que encuentra el objetivo. Si el objetivo se encuentra, la función devuelve el camino que se ha seguido para llegar hasta él (y gracias a lo devuelto en este paso, más adelante hará que se imprima para tenerlo visualmente)."
      ],
      "metadata": {
        "id": "mldoi54HAmPW"
      }
    },
    {
      "cell_type": "code",
      "source": [
        "def encontrar_camino(laberinto, inicio, objetivo):\n",
        "    filas, columnas = len(laberinto), len(laberinto[0])\n",
        "    cola = deque([Place(inicio[0], inicio[1])])\n",
        "    visitados = set([(inicio[0], inicio[1])])\n",
        "    MARK = np.zeros((filas, columnas), dtype=int)\n",
        "    intentos = 1\n",
        "\n",
        "    move = [[0, -1], [1, 0], [0, 1], [-1, 0]] #comentar esta y descomentar la siguiente para el movimiento lateral\n",
        "   # move = [[0, -1], [1, 0], [0, 1], [-1, 0], [1, 1], [-1, -1], [1, -1], [-1, 1]] # Movimiento en diagonal\n",
        "\n",
        "    while cola:\n",
        "        lugar_actual = cola.popleft() # Primer elemento de la cola para explorar.\n",
        "        fila, columna = lugar_actual.fila, lugar_actual.columna #coordenadas de la celda actual del objeto Place\n",
        "        if (fila, columna) == objetivo:\n",
        "            break\n",
        "\n",
        "        for nr, nc in move: #Iteración sobre las posibles direcciones de movimiento\n",
        "            nueva_fila, nueva_columna = fila + nr, columna + nc\n",
        "            nuevas_coordenadas_object = laberinto[nueva_fila][nueva_columna]\n",
        "            no_es_muro = nuevas_coordenadas_object != 1\n",
        "            fila_en_rango = 0 <= nueva_fila < filas #verifica si la fila esta dentro del limite del laberinto\n",
        "            columna_en_rango = 0 <= nueva_columna < columnas #igual para las columnas\n",
        "\n",
        "            if fila_en_rango and columna_en_rango and no_es_muro and (nueva_fila, nueva_columna) not in visitados:\n",
        "                cola.append(Place(nueva_fila, nueva_columna)) #añade la nueva posición a la lista de posiciones pendientes por explorar\n",
        "                visitados.add((nueva_fila, nueva_columna))\n",
        "                MARK[nueva_fila, nueva_columna] = fila * columnas + columna #Actualiza el camino hasta ahora\n",
        "\n",
        "        intentos += 1\n",
        "\n",
        "    if (fila, columna) == objetivo: #verifica si la posición actual coincide con el objetivo\n",
        "        pasos = 0\n",
        "        camino = [(fila, columna)] #Esta lista almacena las coordenadas del camino desde el objetivo hasta el inicio\n",
        "        while (fila, columna) != inicio:\n",
        "            fila, columna = MARK[fila, columna] // columnas, MARK[fila, columna] % columnas\n",
        "            camino.append((fila, columna))\n",
        "            pasos += 1\n",
        "        camino.reverse() #se invierte la lista para asegurar que el orden es el correcto (de inicio a obejtivo)\n",
        "        return camino, intentos, pasos\n",
        "    else:\n",
        "        return None, intentos, 0"
      ],
      "metadata": {
        "id": "8dVWdn3iANGE"
      },
      "execution_count": null,
      "outputs": []
    },
    {
      "cell_type": "markdown",
      "source": [
        "<h1> Creación visual del laberito:\n",
        "\n",
        "- En este punto es donde se muestra de manera visual el laberinto y su recorrido, recibiendo por parámetro ellaberinto y el camino en caso de haber encontrado alguno en la función anterior.\n",
        "\n",
        "detallo los puntos mas relevantes:\n",
        "\n",
        "1)  se configuran los límites del laberinto con el xlim/ylim.\n",
        "\n",
        "2) Se cuadricula todo el laberinto con el gca y pone marcas (x,y) en cada celda.Básicamente rueda 0.5 unidades tanto el eje x y el eje y para que cuando se muestre, no aparezca la marca en un lateral de la celda sino en el centro. (el centro entre -0.5 y 0.5, que son las marcas de las columnas o filas, es 0)\n",
        "\n",
        "3) el condicional muestra el laberinto o un mensaje de error en caso de no haber encontrado ningún recorrido."
      ],
      "metadata": {
        "id": "u_k4aba5AnNx"
      }
    },
    {
      "cell_type": "code",
      "source": [
        "def mostrar_laberinto(laberinto, camino=None):\n",
        "    colorMap = ListedColormap([\"white\", \"gray\", \"orange\", \"green\"])\n",
        "    plt.figure()\n",
        "    plt.imshow(laberinto, cmap=colorMap)\n",
        "    plt.xlim(-0.5, len(laberinto[0]) - 0.5) #Establece los límites del gráfico para que coincidan con las dimensiones del laberinto\n",
        "    plt.ylim(-0.5, len(laberinto) - 0.5)\n",
        "    plt.gca().set_xticks(np.arange(-0.5, len(laberinto[0]) - 0.5, 1), minor=True)# dibuja las cuadriculas mediante marcas delimitadas\n",
        "    plt.gca().set_yticks(np.arange(-0.5, len(laberinto) - 0.5, 1), minor=True)\n",
        "    plt.grid(which=\"minor\", color=\"black\", linestyle='-', linewidth=1.09)\n",
        "\n",
        "    if camino is not None: #espera que le pase un camino válido e invertido\n",
        "        for paso, (fila, columna) in enumerate(camino):\n",
        "            plt.text(columna, fila, str(\"x\"), ha='center', va='center', color='orange', fontsize=10, fontweight='bold')\n",
        "    else:\n",
        "        plt.text(len(laberinto[0]) // 2, len(laberinto) // 2, \"No hay camino válido para llegar al punto final.\", ha='center',\n",
        "                 va='center', color='red', fontsize=12, fontweight='bold')\n",
        "\n",
        "    plt.show()\n"
      ],
      "metadata": {
        "id": "sVsAX7DXAM_J"
      },
      "execution_count": null,
      "outputs": []
    },
    {
      "cell_type": "markdown",
      "source": [
        "<h1> Metodo Main para ejecutar todo y mostrar los resultados:\n",
        "\n",
        "Aquí se inicializa el laberinto, se definen los puntos de inicio y fin (objetivo) y se crean los obstáculos.\n",
        "\n",
        "Ejecuta la función encontrar_camino() para empezar la búsqueda en amplitud y se imprimen los resultados."
      ],
      "metadata": {
        "id": "pqjeAf1HAn7t"
      }
    },
    {
      "cell_type": "code",
      "source": [
        "def main():\n",
        "    laberinto = inicializar_laberinto()\n",
        "\n",
        "    # Puntos de inicio (naranja) y objetivo (verde)\n",
        "    inicio = (8, 1)\n",
        "    objetivo = (1, 8)\n",
        "    # inicio = (1, 1)\n",
        "    # objetivo = (8, 8)\n",
        "\n",
        "    obstaculos = [(1, 5), (1, 7), (2, 1), (2, 3), (2, 4), (2, 5), (2, 7), (3, 7), (4, 1), (4, 2), (4, 3), (4, 4),\n",
        "                  (4, 5), (4, 7), (6, 3), (6, 5), (6, 6), (6, 7), (6, 8), (7, 1), (7, 2), (7, 3), (7, 5), (8, 7)]\n",
        "\n",
        "    marcar_puntos_inicio_y_fin(laberinto, inicio, objetivo)\n",
        "    marcar_obstaculos(laberinto, obstaculos)\n",
        "\n",
        "    camino, intentos, pasos = encontrar_camino(laberinto, inicio, objetivo)\n",
        "\n",
        "    if camino:\n",
        "        print(f\"Se encontró un camino válido para llegar al punto final en {intentos} intentos.\")\n",
        "        print(f\"El agente ha dado {pasos} pasos en este intento para llegar al punto final.\")\n",
        "        print(\"Desglose del recorrido del agente:\")\n",
        "        for paso, (fila, columna) in enumerate(camino):\n",
        "            print(f\"Paso {paso + 1}: Fila {fila}, Columna {columna}\")\n",
        "    else:\n",
        "        print(f\"No hay camino válido para llegar al punto final en {intentos} intentos.\")\n",
        "\n",
        "    mostrar_laberinto(laberinto, camino)"
      ],
      "metadata": {
        "id": "8OABuLUyAM3h"
      },
      "execution_count": null,
      "outputs": []
    },
    {
      "cell_type": "markdown",
      "source": [
        "."
      ],
      "metadata": {
        "id": "wiwc-PfsAo3E"
      }
    },
    {
      "cell_type": "markdown",
      "source": [
        "."
      ],
      "metadata": {
        "id": "935qad0ouIgT"
      }
    },
    {
      "cell_type": "markdown",
      "source": [
        "."
      ],
      "metadata": {
        "id": "GKlRz6OfuI6g"
      }
    },
    {
      "cell_type": "markdown",
      "source": [
        "."
      ],
      "metadata": {
        "id": "AD1y1xLLuJV1"
      }
    },
    {
      "cell_type": "markdown",
      "source": [
        "."
      ],
      "metadata": {
        "id": "L12njPMfuTaQ"
      }
    },
    {
      "cell_type": "markdown",
      "source": [
        "."
      ],
      "metadata": {
        "id": "uN5BSxzPuUBR"
      }
    },
    {
      "cell_type": "code",
      "source": [
        "#ejecutar el main\n",
        "main()"
      ],
      "metadata": {
        "colab": {
          "base_uri": "https://localhost:8080/",
          "height": 742
        },
        "id": "DinvN8-kOdeT",
        "outputId": "12ab2f54-b57c-4f77-a77a-3050efc9b8ac"
      },
      "execution_count": null,
      "outputs": [
        {
          "output_type": "stream",
          "name": "stdout",
          "text": [
            "Se encontró un camino válido para llegar al punto final en 33 intentos.\n",
            "El agente ha dado 14 pasos en este intento para llegar al punto final.\n",
            "Desglose del recorrido del agente:\n",
            "Paso 1: Fila 8, Columna 1\n",
            "Paso 2: Fila 8, Columna 2\n",
            "Paso 3: Fila 8, Columna 3\n",
            "Paso 4: Fila 8, Columna 4\n",
            "Paso 5: Fila 7, Columna 4\n",
            "Paso 6: Fila 6, Columna 4\n",
            "Paso 7: Fila 5, Columna 4\n",
            "Paso 8: Fila 5, Columna 5\n",
            "Paso 9: Fila 5, Columna 6\n",
            "Paso 10: Fila 5, Columna 7\n",
            "Paso 11: Fila 5, Columna 8\n",
            "Paso 12: Fila 4, Columna 8\n",
            "Paso 13: Fila 3, Columna 8\n",
            "Paso 14: Fila 2, Columna 8\n",
            "Paso 15: Fila 1, Columna 8\n"
          ]
        },
        {
          "output_type": "display_data",
          "data": {
            "text/plain": [
              "<Figure size 640x480 with 1 Axes>"
            ],
            "image/png": "[encoded data removed]"
          },
          "metadata": {}
        }
      ]
    },
    {
      "cell_type": "markdown",
      "source": [
        ".\n"
      ],
      "metadata": {
        "id": "ULw4d3UlA6zh"
      }
    },
    {
      "cell_type": "markdown",
      "source": [
        "."
      ],
      "metadata": {
        "id": "b0ses3YoA6sH"
      }
    },
    {
      "cell_type": "markdown",
      "source": [
        "."
      ],
      "metadata": {
        "id": "HHIkLVA6A6kt"
      }
    }
  ]
}