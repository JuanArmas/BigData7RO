{
  "nbformat": 4,
  "nbformat_minor": 0,
  "metadata": {
    "colab": {
      "provenance": [],
      "authorship_tag": "ABX9TyPhwQwTFSNafpjFRPc8BfPm",
      "include_colab_link": true
    },
    "kernelspec": {
      "name": "python3",
      "display_name": "Python 3"
    },
    "language_info": {
      "name": "python"
    }
  },
  "cells": [
    {
      "cell_type": "markdown",
      "metadata": {
        "id": "view-in-github",
        "colab_type": "text"
      },
      "source": [
        "<a href=\"https://colab.research.google.com/github/JuanArmas/BigData7RO/blob/main/Laberinto_DFS_JuanArmas.ipynb\" target=\"_parent\"><img src=\"https://colab.research.google.com/assets/colab-badge.svg\" alt=\"Open In Colab\"/></a>"
      ]
    },
    {
      "cell_type": "markdown",
      "source": [
        "# Laberinto__Juan Armas Alemán\n",
        "\n",
        "# Explicacion del código."
      ],
      "metadata": {
        "id": "4whqSPIIhbdW"
      }
    },
    {
      "cell_type": "markdown",
      "source": [
        "<h1> Importación de bibliotecas y módulos\n",
        "\n",
        "- Importa la biblioteca **matplotlib** para importar los módulos pyplot (que nos permitirá crear la visualización del laberinto) y al módulo **colors** para acceder a su submódulo, **ListedColorMap**, el cual nos dejará jugar con los colores del laberinto.\n",
        "\n",
        "- Importa la biblioteca **numpy** que nos facilitará el uso de las distintas matrices bidimensionales y para las funciones que usaremos para la DFS."
      ],
      "metadata": {
        "id": "r2iE9siAA1kp"
      }
    },
    {
      "cell_type": "code",
      "source": [
        "import matplotlib.pyplot as plt\n",
        "from matplotlib.colors import ListedColormap\n",
        "import numpy as np"
      ],
      "metadata": {
        "id": "r9yOKfIEQYin"
      },
      "execution_count": null,
      "outputs": []
    },
    {
      "cell_type": "markdown",
      "source": [
        "<h1> Creación de la clase Place\n",
        "\n",
        "Crearemos objetos de tipo Place con coordenadas de fila y columna para almacenarlas como atributos del objeto para su uso"
      ],
      "metadata": {
        "id": "QvEL15NYAiJv"
      }
    },
    {
      "cell_type": "code",
      "source": [
        "class Place:\n",
        "    def __init__(self, fila, columna):\n",
        "        self.fila = fila\n",
        "        self.columna = columna"
      ],
      "metadata": {
        "id": "eFcfMnKIAKgG"
      },
      "execution_count": null,
      "outputs": []
    },
    {
      "cell_type": "markdown",
      "source": [
        "<h1> Inicializamos Laberinto:\n",
        "\n",
        "Creamos la matriz laberinto de 10x10 inicializado a cero.\n",
        "\n",
        "Marcamos los bordes de dicho laberinto igualandolo a 1, de esta manera, más adelante indicaremos los colores según el valor de la casilla.\n",
        "\n",
        "Finalmente pedimos a la función que nos devuelva el resultado para poder llamarla cuando haga falta."
      ],
      "metadata": {
        "id": "hmCXABWrAjCw"
      }
    },
    {
      "cell_type": "code",
      "source": [
        "def inicializar_laberinto():\n",
        "    laberinto = np.zeros((10, 10), dtype=int)\n",
        "    laberinto[:, 0] = 1\n",
        "    laberinto[:, -1] = 1\n",
        "    laberinto[0, :] = 1\n",
        "    laberinto[-1, :] = 1\n",
        "    return laberinto"
      ],
      "metadata": {
        "id": "7TmpBLlXAK45"
      },
      "execution_count": null,
      "outputs": []
    },
    {
      "cell_type": "markdown",
      "source": [
        "<h1> Definimos punto de inicio y de fin\n",
        "\n",
        "A la función le pasamos por parámetro la matriz, y las coordenadas de inicio y de fin de recorrido. Esta función se encarga de reconocer esas coordenadas y asignarles un valor numérico para poder darle el color necesario en todo momento."
      ],
      "metadata": {
        "id": "R7TFIq9eAkD4"
      }
    },
    {
      "cell_type": "code",
      "source": [
        "def marcar_puntos_inicio_y_fin(laberinto, inicio, objetivo):\n",
        "    laberinto[inicio] = 2\n",
        "    laberinto[objetivo] = 3"
      ],
      "metadata": {
        "id": "FpSHiNRBAL65"
      },
      "execution_count": null,
      "outputs": []
    },
    {
      "cell_type": "markdown",
      "source": [
        "<h1> Marcamos los obstáculos\n",
        "\n",
        "La función de este método es igual que la del anterior. Le pasamos por parámetro la matriz y una lista de tuplas donde estarán reflejadas las coordenadas de cada muro interior, los cuales las igualamos a 1 dentro de este método para que tenga el color de un muro."
      ],
      "metadata": {
        "id": "5JaW9lD0AkqF"
      }
    },
    {
      "cell_type": "code",
      "source": [
        "def marcar_obstaculos(laberinto, obstaculos):\n",
        "    for obstaculo in obstaculos:\n",
        "        laberinto[obstaculo] = 1\n"
      ],
      "metadata": {
        "id": "RrFQPlH2ANOv"
      },
      "execution_count": null,
      "outputs": []
    },
    {
      "cell_type": "markdown",
      "source": [
        "<h1> Busqueda del camino óptimo\n",
        "\n",
        "Aquí es donde recorreremos el laberinto usando DFS (Búsqueda en profundidad) desde el punto de inicio hasta el punto objetivo.\n",
        "\n",
        "1) la función recibe por parámetro la estructura del laberinto, las coordenadas de inicio y fin del agente, el número de intentos acumulado y una lista de celdas por las que ya haya pasado.\n",
        "\n",
        "2)Verifica si el agente está en la celda objetivo o no, en caso que no, explora las celdas vecinas en busca de los posibles movimientos (!=1) y comienza la recursividad. Si se encuentra un camino desde la nueva posición, se agrega la celda actual al camino y se devuelve el camino encontrado hasta el momento, el número total de intentos y el número de pasos tomados.\n",
        "\n",
        "3) Si no se encontrara ningún camino (se quedase sin celdas = 0 por las que no haya pasado), devuelve una lista vacia, num de intentos y 0 pasos."
      ],
      "metadata": {
        "id": "mldoi54HAmPW"
      }
    },
    {
      "cell_type": "code",
      "source": [
        "def encontrar_camino(laberinto, inicio, objetivo, visitados=None, intentos=0):\n",
        "    if visitados is None:\n",
        "        visitados = set()\n",
        "\n",
        "    filas, columnas = len(laberinto), len(laberinto[0])\n",
        "    fila, columna = inicio\n",
        "\n",
        "    if (fila, columna) == objetivo: #comprobamos si el agente está en el objetivo\n",
        "        return [(fila, columna)], 1, 0\n",
        "\n",
        "    move = [[0, -1], [1, 0], [0, 1], [-1, 0]]\n",
        "\n",
        "    for nr, nc in move: #Verificación de los posibles movimientos desde la celda actual.\n",
        "        nueva_fila = fila + nr\n",
        "        nueva_columna = columna + nc\n",
        "        no_es_muro = laberinto[nueva_fila][nueva_columna] != 1\n",
        "        fila_en_rango = 0 <= nueva_fila < filas #verifica que la nueva posición esta dentro de los limites del laberinto\n",
        "        columna_en_rango = 0 <= nueva_columna < columnas #idem ^\n",
        "\n",
        "#Explora las celdas adyacentes si son !=1\n",
        "        if fila_en_rango and columna_en_rango and no_es_muro and (nueva_fila, nueva_columna) not in visitados:\n",
        "            visitados.add((nueva_fila, nueva_columna))\n",
        "            camino, intentos_recursivos, pasos = encontrar_camino(laberinto, (nueva_fila, nueva_columna), objetivo, visitados, intentos+1)\n",
        "            intentos += intentos_recursivos\n",
        "\n",
        "            if camino: #recursión hasta encontrar posición válida de movimiento\n",
        "                return [(fila, columna)] + camino, intentos, pasos + 1\n",
        "\n",
        "    return [], intentos, 0 # Es el break de la recursión en caso que llegue a callejon sin salida"
      ],
      "metadata": {
        "id": "8dVWdn3iANGE"
      },
      "execution_count": null,
      "outputs": []
    },
    {
      "cell_type": "markdown",
      "source": [
        "<h1> Creación visual del laberito:\n",
        "\n",
        "- En este punto es donde se muestra de manera visual el laberinto y su recorrido, recibiendo por parámetro ellaberinto y el camino en caso de haber encontrado alguno en la función anterior.\n",
        "\n",
        "detallo los puntos mas relevantes:\n",
        "\n",
        "1)  se configuran los límites del laberinto con el xlim/ylim.\n",
        "\n",
        "2) Se cuadricula todo el laberinto con el gca y pone marcas (x,y) en cada celda.Básicamente rueda 0.5 unidades tanto el eje x y el eje y para que cuando se muestre, no aparezca la marca en un lateral de la celda sino en el centro. (el centro entre -0.5 y 0.5, que son las marcas de las columnas o filas, es 0)\n",
        "\n",
        "3) el condicional muestra el laberinto o un mensaje de error en caso de no haber encontrado ningún recorrido."
      ],
      "metadata": {
        "id": "u_k4aba5AnNx"
      }
    },
    {
      "cell_type": "code",
      "source": [
        "def mostrar_laberinto(laberinto, camino=None):\n",
        "    colorMap = ListedColormap([\"white\", \"gray\", \"orange\", \"green\"])\n",
        "    plt.figure()\n",
        "    plt.imshow(laberinto, cmap=colorMap)\n",
        "    plt.xlim(-0.5, len(laberinto[0]) - 0.5)\n",
        "    plt.ylim(-0.5, len(laberinto) - 0.5)\n",
        "    plt.gca().set_xticks(np.arange(-0.5, len(laberinto[0]) - 0.5, 1), minor=True)\n",
        "    plt.gca().set_yticks(np.arange(-0.5, len(laberinto) - 0.5, 1), minor=True)\n",
        "    plt.grid(which=\"minor\", color=\"black\", linestyle='-', linewidth=1.09)\n",
        "\n",
        "    if camino:\n",
        "        for paso, (fila, columna) in enumerate(camino):\n",
        "            plt.text(columna, fila, str(\"x\"), ha='center', va='center', color='orange', fontsize=10, fontweight='bold')\n",
        "    else:\n",
        "        plt.text(len(laberinto[0]) // 2, len(laberinto) // 2, \"No hay camino válido para llegar al punto final.\", ha='center',\n",
        "                 va='center', color='red', fontsize=12, fontweight='bold')\n",
        "\n",
        "    plt.show()\n"
      ],
      "metadata": {
        "id": "sVsAX7DXAM_J"
      },
      "execution_count": null,
      "outputs": []
    },
    {
      "cell_type": "markdown",
      "source": [
        "<h1> Metodo Main para ejecutar todo y mostrar los resultados:\n",
        "\n",
        "Aquí se inicializa el laberinto, se definen los puntos de inicio y fin (objetivo) y se crean los obstáculos.\n",
        "\n",
        "Ejecuta la función encontrar_camino() para empezar la búsqueda en profundidad y se imprimen los resultados."
      ],
      "metadata": {
        "id": "pqjeAf1HAn7t"
      }
    },
    {
      "cell_type": "code",
      "source": [
        "def main():\n",
        "    laberinto = inicializar_laberinto()\n",
        "\n",
        "    # Puntos de inicio (naranja) y objetivo (verde)\n",
        "    inicio = (8, 1)\n",
        "    objetivo = (1, 8)\n",
        "    # inicio = (1, 1)\n",
        "    # objetivo = (8, 8)\n",
        "\n",
        "    obstaculos = [(1, 5), (1, 7), (2, 1), (2, 3), (2, 4), (2, 5), (2, 7), (3, 7), (4, 1), (4, 2), (4, 3), (4, 4),\n",
        "                  (4, 5), (4, 7), (6, 3), (6, 5), (6, 6), (6, 7), (6, 8), (7, 1), (7, 2), (7, 3), (7, 5), (8, 7)]\n",
        "\n",
        "    marcar_puntos_inicio_y_fin(laberinto, inicio, objetivo)\n",
        "    marcar_obstaculos(laberinto, obstaculos)\n",
        "\n",
        "    camino, intentos, pasos = encontrar_camino(laberinto, inicio, objetivo)\n",
        "\n",
        "    if camino:\n",
        "        print(f\"Se encontró un camino válido para llegar al punto final en {intentos} intentos.\")\n",
        "        print(f\"El agente ha dado {pasos} pasos en este intento para llegar al punto final.\")\n",
        "        print(\"Desglose del recorrido del agente:\")\n",
        "        for paso, (fila, columna) in enumerate(camino):\n",
        "            print(f\"Paso {paso + 1}: Fila {fila}, Columna {columna}\")\n",
        "    else:\n",
        "        print(f\"No hay camino válido para llegar al punto final en {intentos} intentos.\")\n",
        "\n",
        "    mostrar_laberinto(laberinto, camino)"
      ],
      "metadata": {
        "id": "8OABuLUyAM3h"
      },
      "execution_count": null,
      "outputs": []
    },
    {
      "cell_type": "code",
      "source": [
        "#if __name__ == \"__main__\":\n",
        "main()"
      ],
      "metadata": {
        "colab": {
          "base_uri": "https://localhost:8080/",
          "height": 847
        },
        "id": "DinvN8-kOdeT",
        "outputId": "5d5463c4-2525-43f7-ab76-7ee465a09c4c"
      },
      "execution_count": null,
      "outputs": [
        {
          "output_type": "stream",
          "name": "stdout",
          "text": [
            "Se encontró un camino válido para llegar al punto final en 3733 intentos.\n",
            "El agente ha dado 20 pasos en este intento para llegar al punto final.\n",
            "Desglose del recorrido del agente:\n",
            "Paso 1: Fila 1, Columna 1\n",
            "Paso 2: Fila 1, Columna 2\n",
            "Paso 3: Fila 2, Columna 2\n",
            "Paso 4: Fila 3, Columna 2\n",
            "Paso 5: Fila 3, Columna 3\n",
            "Paso 6: Fila 3, Columna 4\n",
            "Paso 7: Fila 3, Columna 5\n",
            "Paso 8: Fila 3, Columna 6\n",
            "Paso 9: Fila 4, Columna 6\n",
            "Paso 10: Fila 5, Columna 6\n",
            "Paso 11: Fila 5, Columna 5\n",
            "Paso 12: Fila 5, Columna 4\n",
            "Paso 13: Fila 6, Columna 4\n",
            "Paso 14: Fila 7, Columna 4\n",
            "Paso 15: Fila 8, Columna 4\n",
            "Paso 16: Fila 8, Columna 5\n",
            "Paso 17: Fila 8, Columna 6\n",
            "Paso 18: Fila 7, Columna 6\n",
            "Paso 19: Fila 7, Columna 7\n",
            "Paso 20: Fila 7, Columna 8\n",
            "Paso 21: Fila 8, Columna 8\n"
          ]
        },
        {
          "output_type": "display_data",
          "data": {
            "text/plain": [
              "<Figure size 640x480 with 1 Axes>"
            ],
            "image/png": "[encoded data removed]"
          },
          "metadata": {}
        }
      ]
    }
  ]
}