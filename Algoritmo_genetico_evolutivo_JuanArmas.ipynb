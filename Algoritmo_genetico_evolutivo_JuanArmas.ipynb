{
  "nbformat": 4,
  "nbformat_minor": 0,
  "metadata": {
    "colab": {
      "provenance": [],
      "authorship_tag": "ABX9TyNtaKyLz2MEGE47RwnM1Vhc",
      "include_colab_link": true
    },
    "kernelspec": {
      "name": "python3",
      "display_name": "Python 3"
    },
    "language_info": {
      "name": "python"
    }
  },
  "cells": [
    {
      "cell_type": "markdown",
      "metadata": {
        "id": "view-in-github",
        "colab_type": "text"
      },
      "source": [
        "<a href=\"https://colab.research.google.com/github/JuanArmas/BigData7RO/blob/main/Algoritmo_genetico_evolutivo_JuanArmas.ipynb\" target=\"_parent\"><img src=\"https://colab.research.google.com/assets/colab-badge.svg\" alt=\"Open In Colab\"/></a>"
      ]
    },
    {
      "cell_type": "markdown",
      "source": [
        "<h1>Problema del Viajante de comercios, por Juan Armas Alemán:\n",
        "\n",
        "Código basado en lo descrito en los siguientes videos:\n",
        "\n",
        "https://www.youtube.com/watch?v=3Kzj2FNaua8\n",
        "\n",
        "https://www.youtube.com/watch?v=L7ABeOYXPck&list=PL6VsnkqbwvkKtHPPpFTlDExnImvQ6T0MR&index=2"
      ],
      "metadata": {
        "id": "YtVXj_Z_MHMY"
      }
    },
    {
      "cell_type": "code",
      "execution_count": null,
      "metadata": {
        "id": "JCMM0iVNLz2h"
      },
      "outputs": [],
      "source": [
        "import numpy as np\n",
        "import random\n"
      ]
    },
    {
      "cell_type": "markdown",
      "source": [
        "matriz de distancia"
      ],
      "metadata": {
        "id": "rRsDRz3qOIro"
      }
    },
    {
      "cell_type": "code",
      "source": [
        "# Definir las ciudades\n",
        "ciudades = [\"Las Palmas\", \"Telde\", \"Gáldar\", \"Vecindario\", \"Teror\", \"Santa Lucía\", \"Maspalomas\", \"Agaete\"]\n",
        "\n",
        "# Definir la matriz de distancias entre las ciudades (valores aproximados, reemplazar con valores reales)\n",
        "matriz_distancias = [\n",
        "    [0, 12.7, 25.5, 19.3, 15.4, 51.5, 41.2, 21.1],  # Distancias desde Las Palmas a otras ciudades\n",
        "    [12.7, 0, 12.8, 7.6, 5.7, 38.7, 30.3, 18.8],    # Distancias desde Telde a otras ciudades\n",
        "    [25.5, 12.8, 0, 12.1, 9.2, 40.3, 31.9, 20.4],   # Distancias desde Gáldar a otras ciudades\n",
        "    [19.3, 7.6, 12.1, 0, 7.1, 36.1, 27.7, 16.2],    # Distancias desde Vecindario a otras ciudades\n",
        "    [15.4, 5.7, 9.2, 7.1, 0, 31.2, 22.8, 11.3],     # Distancias desde Teror a otras ciudades\n",
        "    [51.5, 38.7, 40.3, 36.1, 31.2, 0, 11.7, 38.6],  # Distancias desde Santa Lucía a otras ciudades\n",
        "    [41.2, 30.3, 31.9, 27.7, 22.8, 11.7, 0, 27.5],  # Distancias desde Maspalomas a otras ciudades\n",
        "    [21.1, 18.8, 20.4, 16.2, 11.3, 38.6, 27.5, 0]   # Distancias desde Agaete a otras ciudades\n",
        "]"
      ],
      "metadata": {
        "id": "UgA0XpRWOJTb"
      },
      "execution_count": null,
      "outputs": []
    },
    {
      "cell_type": "markdown",
      "source": [
        "Definimos los hiperpárametros"
      ],
      "metadata": {
        "id": "6eNFD049xKkV"
      }
    },
    {
      "cell_type": "code",
      "source": [
        "# Hiperparámetros\n",
        "tam_poblac = 8  # Tamaño de la población (cantidad de individuos)\n",
        "tasa_mut = 0.2  # Tasa de mutación (probabilidad de mutar un individuo)\n",
        "tasa_recomb = 2  # Tasa de recombinación (proporción de individuos que serán recombinados)\n",
        "max_iterac = 100  # Número máximo de iteraciones o épocas\n",
        "umbral_fitness = 9.5  # Umbral de fitness para considerar que es aceptable\n",
        "max_iterac_sin_mejora = 5  # Número de iteraciones sin mejora para detener el algoritmo si no hay mejoras\n"
      ],
      "metadata": {
        "id": "ZjSBCZgJxJiJ"
      },
      "execution_count": null,
      "outputs": []
    },
    {
      "cell_type": "markdown",
      "source": [
        "Generacion de un individuo aleatorio con longitud poblacional:\n",
        "\n",
        "- Será el punto de partida y la primera propuesta de ruta óptima sobre la que trabajará el algoritmo."
      ],
      "metadata": {
        "id": "RaTo18FtuacX"
      }
    },
    {
      "cell_type": "code",
      "source": [
        "def generar_individuo():\n",
        "    individuo = list(range(len(ciudades)))\n",
        "    random.shuffle(individuo)\n",
        "    return individuo"
      ],
      "metadata": {
        "id": "fJNEazNgtDgC"
      },
      "execution_count": null,
      "outputs": []
    },
    {
      "cell_type": "markdown",
      "source": [
        "Funcion Recombinacion.\n",
        "\n",
        "- Se crean dos hijos usando a dos individuos Padres, con el fin de que los valores de uno sirvan como indice del otro, alternandose entre ellos como indice para generar de esta manera a ambos hijos resultantes.\n",
        "-"
      ],
      "metadata": {
        "id": "Ac6qFzglxvRT"
      }
    },
    {
      "cell_type": "code",
      "source": [
        "def recombinar(padre1, padre2):\n",
        "    hijo = [padre1[padre2[i]] for i in range(len(padre1))]\n",
        "    return hijo"
      ],
      "metadata": {
        "id": "sg32VJUtX49l"
      },
      "execution_count": null,
      "outputs": []
    },
    {
      "cell_type": "markdown",
      "source": [
        "Funcion mutacion:\n",
        "- Si el número aleatorio generado es menor que el hiperparámetro, tasa_mut, se procede a la mutación. De lo contrario, el individuo permanece sin cambios. Nos aseguramos así que no se apliquen mutaciones en todos los individuos creados."
      ],
      "metadata": {
        "id": "iqWgN-GIxi0H"
      }
    },
    {
      "cell_type": "code",
      "source": [
        "def mutar_individuo(individuo):\n",
        "    if random.random() < tasa_mut: #genera un num entre 0-1 y compara con el hiperparámetro\n",
        "        # Selecciona aleatoriamente dos índices distintos en el individuo para intercambiar\n",
        "        id1, id2 = random.sample(range(len(individuo)), 2)\n",
        "        individuo[id1], individuo[id2] = individuo[id2], individuo[id1] #se intercambian\n",
        "    return individuo #devuelve individuo mutado"
      ],
      "metadata": {
        "id": "sWML_ke5s-ps"
      },
      "execution_count": null,
      "outputs": []
    },
    {
      "cell_type": "markdown",
      "source": [
        "Funcion fitness\n",
        "- Calcula la distancia total recorrida por el individuo en la matriz de distancias según el orden establecido,\n",
        "\n",
        "sumando cada par de ciudades consecutivas y añadiendo esta suma a la distancia total, para evaluar más adelante, el recorrido minimo y máximo\n"
      ],
      "metadata": {
        "id": "gfcl-QUbxcp5"
      }
    },
    {
      "cell_type": "code",
      "source": [
        "def fitness(individuo, matriz_distancias):\n",
        "    distancia_total = 0\n",
        "    for i in range(len(individuo) - 1):\n",
        "        ciudad_actual = individuo[i]\n",
        "        siguiente_ciudad = individuo[i + 1]# Obtiene la siguiente ciudad en el recorrido del individuo\n",
        "        #suma la distancia entre dos ciudades consecutivas en el recorrido indicado\n",
        "        distancia_total += matriz_distancias[ciudad_actual][siguiente_ciudad]\n",
        "    # Suma la distancia desde la última ciudad hasta la inicial\n",
        "    distancia_total += matriz_distancias[individuo[-1]][individuo[0]]\n",
        "    return distancia_total"
      ],
      "metadata": {
        "id": "cvyC3Qiys5El"
      },
      "execution_count": null,
      "outputs": []
    },
    {
      "cell_type": "markdown",
      "source": [
        "Funcion de ejecución de iteraciones:\n",
        "\n",
        "Se ejecuta la carga de iteraciones para las evoluciones, creación de población de indivíduos y para hallar la mejor ruta en base a la distancia recorrida (fitness). Buscando la mejor solución o saliendo en caso de alcanzar la condicion de salida (max_iterac_sin_mejora)"
      ],
      "metadata": {
        "id": "6gSRFSn4NT31"
      }
    },
    {
      "cell_type": "code",
      "source": [
        "def ejecutar_iteraciones(poblacion, mejor_fitness_global, mejor_ruta_global):\n",
        "    iter_sin_mejora = 0\n",
        "\n",
        "    for iteracion in range(max_iterac):\n",
        "        #calcula la suma de distancia de cada individuo de la poblacion\n",
        "        fitness_poblacion = [fitness(individuo, matriz_distancias) for individuo in poblacion]\n",
        "        mejor_fitness_id = fitness_poblacion.index(min(fitness_poblacion))#indice del mejor fitness\n",
        "        #almacena el mejor fitness e individuo\n",
        "        mejor_fitness = fitness_poblacion[mejor_fitness_id]\n",
        "        mejor_individuo = poblacion[mejor_fitness_id]\n",
        "\n",
        "        print(f\"Iteración {iteracion + 1} - Suma de distancias: {mejor_fitness}\")\n",
        "        #condicional actualiza la ruta y el fitness cuando encuentra uno mejor.\n",
        "        if mejor_fitness < mejor_fitness_global:\n",
        "            mejor_fitness_global = mejor_fitness\n",
        "            mejor_ruta_global = mejor_individuo\n",
        "\n",
        "        for i in range(len(poblacion)):#mutar poblacion\n",
        "            poblacion[i] = mutar_individuo(poblacion[i])\n",
        "\n",
        "        #recombinación de indivíduos\n",
        "        num_recombinados = int(tasa_recomb * tam_poblac)\n",
        "        for _ in range(num_recombinados):\n",
        "            padre1, padre2 = random.sample(poblacion, 2)\n",
        "            hijo = recombinar(padre1, padre2)\n",
        "            poblacion.append(hijo)\n",
        "\n",
        "        #mantiene el tamaño de la poblacion constante\n",
        "        num_nuevos = tam_poblac - len(poblacion)\n",
        "        nuevos_individuos = [generar_individuo() for _ in range(num_nuevos)]\n",
        "        poblacion.extend(nuevos_individuos)# añadiendo individuos aleatorios\n",
        "\n",
        "        if mejor_fitness <= umbral_fitness:\n",
        "            break#condicion de parada en caso de alcanzar el hiperparametro umbralFitness\n",
        "\n",
        "        # condicional para detener la ejecución si no se encuentra\n",
        "        # mejora tras un num de iteraciones hiperparametradas\n",
        "        if mejor_fitness == fitness_poblacion[0]:\n",
        "            iter_sin_mejora += 1\n",
        "        else:\n",
        "            iter_sin_mejora = 0\n",
        "\n",
        "        if iter_sin_mejora >= max_iterac_sin_mejora:\n",
        "            break\n",
        "\n",
        "    return poblacion, mejor_fitness_global, mejor_ruta_global"
      ],
      "metadata": {
        "id": "yJwfb6vpNUw9"
      },
      "execution_count": null,
      "outputs": []
    },
    {
      "cell_type": "markdown",
      "source": [
        "función genética:\n",
        "Auna todas las funciones ejecutadas y muestra los resultados:\n",
        "\n"
      ],
      "metadata": {
        "id": "9wsRiAcNtN15"
      }
    },
    {
      "cell_type": "code",
      "source": [
        "def algoritmo_genetico():\n",
        "    #creación de una población de individuos iniciales\n",
        "    poblacion = [generar_individuo() for _ in range(tam_poblac)]\n",
        "\n",
        "    #definición de variables\n",
        "    mejor_fitness_global = float('inf')\n",
        "    mejor_ruta_global = None\n",
        "\n",
        "    #recogida de datos de la funcion de iteracion\n",
        "    poblacion, mejor_fitness_global, mejor_ruta_global = ejecutar_iteraciones(poblacion,\n",
        "                                                                              mejor_fitness_global,\n",
        "                                                                              mejor_ruta_global)\n",
        "\n",
        "    # Cálculo del mejor individuo y su fitness\n",
        "    mejor_fitness = min([fitness(individuo, matriz_distancias) for individuo in poblacion])\n",
        "    mejor_individuo = poblacion[[fitness(individuo,\n",
        "                                         matriz_distancias) for individuo in poblacion].index(mejor_fitness)]\n",
        "\n",
        "    #uso array de la mejor ruta como indice de la lista de ciudades\n",
        "    mejor_ruta_nombres = [ciudades[id] for id in mejor_ruta_global]\n",
        "\n",
        "    # Impresión de la mejor ruta y su fitness\n",
        "    print(\"\\nMejor orden de visitas a las ciudades:\")\n",
        "    for ciudad in mejor_ruta_nombres:\n",
        "        print(ciudad)\n",
        "\n",
        "    print(\"\\nFitness de la mejor solución:\", mejor_fitness)\n",
        "\n",
        "    #devolución de la mejor solucion\n",
        "    return mejor_ruta_nombres, mejor_fitness\n",
        "\n",
        "#imprime las iteraciones y la mejor solucion\n",
        "mejor_orden, mejor_fitness = algoritmo_genetico()"
      ],
      "metadata": {
        "id": "cgW_itCqeO3f",
        "colab": {
          "base_uri": "https://localhost:8080/"
        },
        "outputId": "1f582ff2-77e0-4e10-bf4d-ea2cfc0b0cf5"
      },
      "execution_count": null,
      "outputs": [
        {
          "output_type": "stream",
          "name": "stdout",
          "text": [
            "Iteración 1 - Suma de distancias: 153.0\n",
            "Iteración 2 - Suma de distancias: 143.7\n",
            "Iteración 3 - Suma de distancias: 139.59999999999997\n",
            "Iteración 4 - Suma de distancias: 139.59999999999997\n",
            "Iteración 5 - Suma de distancias: 139.59999999999997\n",
            "Iteración 6 - Suma de distancias: 139.59999999999997\n",
            "Iteración 7 - Suma de distancias: 140.6\n",
            "Iteración 8 - Suma de distancias: 140.6\n",
            "Iteración 9 - Suma de distancias: 140.6\n",
            "Iteración 10 - Suma de distancias: 140.6\n",
            "Iteración 11 - Suma de distancias: 140.6\n",
            "Iteración 12 - Suma de distancias: 135.8\n",
            "Iteración 13 - Suma de distancias: 139.60000000000002\n",
            "Iteración 14 - Suma de distancias: 141.39999999999998\n",
            "Iteración 15 - Suma de distancias: 138.79999999999998\n",
            "Iteración 16 - Suma de distancias: 138.79999999999998\n",
            "Iteración 17 - Suma de distancias: 138.79999999999998\n",
            "Iteración 18 - Suma de distancias: 138.79999999999998\n",
            "Iteración 19 - Suma de distancias: 140.9\n",
            "Iteración 20 - Suma de distancias: 138.2\n",
            "Iteración 21 - Suma de distancias: 138.2\n",
            "Iteración 22 - Suma de distancias: 138.2\n",
            "Iteración 23 - Suma de distancias: 138.2\n",
            "Iteración 24 - Suma de distancias: 139.6\n",
            "Iteración 25 - Suma de distancias: 139.6\n",
            "Iteración 26 - Suma de distancias: 139.6\n",
            "Iteración 27 - Suma de distancias: 139.6\n",
            "Iteración 28 - Suma de distancias: 140.6\n",
            "Iteración 29 - Suma de distancias: 140.6\n",
            "Iteración 30 - Suma de distancias: 140.6\n",
            "Iteración 31 - Suma de distancias: 140.6\n",
            "Iteración 32 - Suma de distancias: 140.6\n",
            "Iteración 33 - Suma de distancias: 139.60000000000002\n",
            "Iteración 34 - Suma de distancias: 138.2\n",
            "Iteración 35 - Suma de distancias: 138.2\n",
            "Iteración 36 - Suma de distancias: 138.2\n",
            "Iteración 37 - Suma de distancias: 139.60000000000002\n",
            "Iteración 38 - Suma de distancias: 133.1\n",
            "Iteración 39 - Suma de distancias: 133.1\n",
            "Iteración 40 - Suma de distancias: 133.1\n",
            "Iteración 41 - Suma de distancias: 133.1\n",
            "Iteración 42 - Suma de distancias: 133.1\n",
            "Iteración 43 - Suma de distancias: 133.1\n",
            "Iteración 44 - Suma de distancias: 133.1\n",
            "Iteración 45 - Suma de distancias: 133.1\n",
            "Iteración 46 - Suma de distancias: 133.1\n",
            "Iteración 47 - Suma de distancias: 133.1\n",
            "Iteración 48 - Suma de distancias: 138.2\n",
            "Iteración 49 - Suma de distancias: 136.2\n",
            "Iteración 50 - Suma de distancias: 136.2\n",
            "Iteración 51 - Suma de distancias: 136.2\n",
            "Iteración 52 - Suma de distancias: 138.2\n",
            "Iteración 53 - Suma de distancias: 138.2\n",
            "Iteración 54 - Suma de distancias: 138.2\n",
            "Iteración 55 - Suma de distancias: 136.2\n",
            "Iteración 56 - Suma de distancias: 133.1\n",
            "Iteración 57 - Suma de distancias: 133.1\n",
            "Iteración 58 - Suma de distancias: 133.1\n",
            "Iteración 59 - Suma de distancias: 136.1\n",
            "Iteración 60 - Suma de distancias: 136.1\n",
            "Iteración 61 - Suma de distancias: 136.1\n",
            "Iteración 62 - Suma de distancias: 138.2\n",
            "Iteración 63 - Suma de distancias: 136.1\n",
            "Iteración 64 - Suma de distancias: 136.1\n",
            "Iteración 65 - Suma de distancias: 136.1\n",
            "Iteración 66 - Suma de distancias: 136.1\n",
            "Iteración 67 - Suma de distancias: 136.1\n",
            "Iteración 68 - Suma de distancias: 136.20000000000002\n",
            "Iteración 69 - Suma de distancias: 138.20000000000002\n",
            "Iteración 70 - Suma de distancias: 135.79999999999998\n",
            "Iteración 71 - Suma de distancias: 135.79999999999998\n",
            "Iteración 72 - Suma de distancias: 135.79999999999998\n",
            "Iteración 73 - Suma de distancias: 137.2\n",
            "Iteración 74 - Suma de distancias: 137.2\n",
            "Iteración 75 - Suma de distancias: 137.2\n",
            "Iteración 76 - Suma de distancias: 136.2\n",
            "Iteración 77 - Suma de distancias: 133.1\n",
            "Iteración 78 - Suma de distancias: 133.1\n",
            "Iteración 79 - Suma de distancias: 133.1\n",
            "Iteración 80 - Suma de distancias: 133.1\n",
            "Iteración 81 - Suma de distancias: 133.1\n",
            "Iteración 82 - Suma de distancias: 136.09999999999997\n",
            "Iteración 83 - Suma de distancias: 136.1\n",
            "Iteración 84 - Suma de distancias: 136.1\n",
            "Iteración 85 - Suma de distancias: 135.8\n",
            "Iteración 86 - Suma de distancias: 136.1\n",
            "Iteración 87 - Suma de distancias: 136.1\n",
            "Iteración 88 - Suma de distancias: 133.1\n",
            "Iteración 89 - Suma de distancias: 133.1\n",
            "Iteración 90 - Suma de distancias: 135.8\n",
            "Iteración 91 - Suma de distancias: 135.8\n",
            "Iteración 92 - Suma de distancias: 135.8\n",
            "Iteración 93 - Suma de distancias: 135.8\n",
            "Iteración 94 - Suma de distancias: 135.8\n",
            "Iteración 95 - Suma de distancias: 135.8\n",
            "Iteración 96 - Suma de distancias: 135.8\n",
            "Iteración 97 - Suma de distancias: 136.10000000000002\n",
            "Iteración 98 - Suma de distancias: 133.1\n",
            "Iteración 99 - Suma de distancias: 133.1\n",
            "Iteración 100 - Suma de distancias: 133.1\n",
            "\n",
            "Mejor orden de visitas a las ciudades:\n",
            "Santa Lucía\n",
            "Las Palmas\n",
            "Teror\n",
            "Telde\n",
            "Maspalomas\n",
            "Vecindario\n",
            "Gáldar\n",
            "Agaete\n",
            "\n",
            "Fitness de la mejor solución: 133.1\n"
          ]
        }
      ]
    }
  ]
}