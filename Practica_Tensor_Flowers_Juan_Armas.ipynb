{
  "nbformat": 4,
  "nbformat_minor": 0,
  "metadata": {
    "colab": {
      "provenance": [],
      "gpuType": "T4",
      "authorship_tag": "ABX9TyPwtgmSRNNGfyaVIJxCVYAK",
      "include_colab_link": true
    },
    "kernelspec": {
      "name": "python3",
      "display_name": "Python 3"
    },
    "language_info": {
      "name": "python"
    },
    "accelerator": "GPU"
  },
  "cells": [
    {
      "cell_type": "markdown",
      "metadata": {
        "id": "view-in-github",
        "colab_type": "text"
      },
      "source": [
        "<a href=\"https://colab.research.google.com/github/JuanArmas/BigData7RO/blob/main/Practica_Tensor_Flowers_Juan_Armas.ipynb\" target=\"_parent\"><img src=\"https://colab.research.google.com/assets/colab-badge.svg\" alt=\"Open In Colab\"/></a>"
      ]
    },
    {
      "cell_type": "markdown",
      "source": [
        "Actividad basada en el trabajo del creador de contenido Ringa Tech.\n",
        "\n",
        "Fuente: https://www.youtube.com/watch?v=JpE4bYyRADI\n",
        "Modificaciones añadidas:\n",
        "\n",
        "- Adaptación del script para entrenar el modelo con un dataset de flores, descargado desde https://www.kaggle.com/datasets/imsparsh/flowers-dataset?resource=download.\n",
        "\n",
        "Por Juan Airam Armas Alemán"
      ],
      "metadata": {
        "id": "5Onu4eVhSlBT"
      }
    },
    {
      "cell_type": "code",
      "source": [
        "import os\n",
        "import numpy as np\n",
        "import tensorflow as tf\n",
        "import matplotlib.pyplot as plt\n",
        "\n",
        "from google.colab import drive\n",
        "from tensorflow.keras.preprocessing.image import ImageDataGenerator\n"
      ],
      "metadata": {
        "id": "QYg_VVthkzw6"
      },
      "execution_count": null,
      "outputs": []
    },
    {
      "cell_type": "code",
      "source": [
        "drive.mount('/content/drive')"
      ],
      "metadata": {
        "colab": {
          "base_uri": "https://localhost:8080/"
        },
        "id": "33_AAWuAk0p4",
        "outputId": "62cfa6b6-7fdc-47ac-f184-a30db36a50e3"
      },
      "execution_count": null,
      "outputs": [
        {
          "output_type": "stream",
          "name": "stdout",
          "text": [
            "Mounted at /content/drive\n"
          ]
        }
      ]
    },
    {
      "cell_type": "code",
      "source": [
        "# Rutas a las carpetas locales de datos\n",
        "carpeta_base = '/content/drive/MyDrive/Flowers_Dataset_sin_procesar'\n",
        "carpeta_entrenamiento = os.path.join(carpeta_base, 'train')\n",
        "carpeta_prueba = os.path.join(carpeta_base, 'test')\n",
        "\n",
        "# Subcarpetas para las diferentes flores\n",
        "flores = ['daisy', 'dandelion', 'rose', 'sunflower', 'tulip']\n",
        "\n",
        "# Guardar el número de datos de entrenamiento para cada flor\n",
        "num_flores_entren = {}\n",
        "num_flores_prueba = {}\n",
        "\n",
        "for flor in flores:\n",
        "    carpeta_entren_flores = os.path.join(carpeta_entrenamiento, flor)\n",
        "    num_entren_flores = len(os.listdir(carpeta_entren_flores))\n",
        "    num_flores_entren[flor] = num_entren_flores\n",
        "\n",
        "# Contar todas las imágenes en la carpeta de prueba\n",
        "num_prueba_total = sum([len(files) for r, d, files in os.walk(carpeta_prueba)])\n",
        "\n",
        "total_entrenamiento = sum(num_flores_entren.values())\n",
        "total_prueba = num_prueba_total"
      ],
      "metadata": {
        "id": "HDzTLJiAb-Yg"
      },
      "execution_count": null,
      "outputs": []
    },
    {
      "cell_type": "code",
      "source": [
        "TAMANO_LOTE = 100\n",
        "TAMANO_IMG = 150\n",
        "\n",
        "#Aumento de datos (escala, rotacion, blabla)\n",
        "print(\"Realizando aumento de datos\")\n",
        "image_gen_entrenamiento = ImageDataGenerator(\n",
        "      rescale=1./255,\n",
        "      rotation_range=40,\n",
        "      width_shift_range=0.2,\n",
        "      height_shift_range=0.2,\n",
        "      shear_range=0.2,\n",
        "      zoom_range=0.2,\n",
        "      horizontal_flip=True,\n",
        "      fill_mode='nearest')\n",
        "\n",
        "#Generacion de datos de entrenamiento FTW\n",
        "data_gen_entrenamiento = image_gen_entrenamiento.flow_from_directory(batch_size=TAMANO_LOTE,\n",
        "                                                     directory=carpeta_entrenamiento,\n",
        "                                                     shuffle=True,\n",
        "                                                     target_size=(TAMANO_IMG,TAMANO_IMG),\n",
        "                                                     class_mode='binary')\n",
        "\n",
        "#Generacion de datos de validacion\n",
        "image_gen_val = ImageDataGenerator(rescale=1./255)\n",
        "\n",
        "data_gen_validacion = image_gen_val.flow_from_directory(batch_size=TAMANO_LOTE,\n",
        "                                                 directory=carpeta_prueba,\n",
        "                                                 target_size=(TAMANO_IMG, TAMANO_IMG),\n",
        "                                                 class_mode='binary')\n",
        "\n",
        "#Modelo!\n",
        "modelo = tf.keras.models.Sequential([\n",
        "    tf.keras.layers.Conv2D(32, (3,3), activation='relu', input_shape=(150, 150, 3)),\n",
        "    tf.keras.layers.MaxPooling2D(2, 2),\n",
        "\n",
        "    tf.keras.layers.Conv2D(64, (3,3), activation='relu'),\n",
        "    tf.keras.layers.MaxPooling2D(2,2),\n",
        "\n",
        "    tf.keras.layers.Conv2D(128, (3,3), activation='relu'),\n",
        "    tf.keras.layers.MaxPooling2D(2,2),\n",
        "\n",
        "    tf.keras.layers.Conv2D(128, (3,3), activation='relu'),\n",
        "    tf.keras.layers.MaxPooling2D(2,2),\n",
        "\n",
        "    tf.keras.layers.Dropout(0.5),\n",
        "    tf.keras.layers.Flatten(),\n",
        "    tf.keras.layers.Dense(512, activation='relu'),\n",
        "    tf.keras.layers.Dense(5, activation='softmax')\n",
        "])\n",
        "\n",
        "#Compilación\n",
        "modelo.compile(optimizer='adam',\n",
        "              loss=tf.keras.losses.SparseCategoricalCrossentropy(from_logits=True),\n",
        "              metrics=['accuracy'])\n",
        "\n",
        "#Entrenar la red. Toma un buen rato! Ve por un café ;)\n",
        "#Oye suscribete al canal!\n",
        "print(\"Entrenando modelo...\");\n",
        "epocas=60\n",
        "history = modelo.fit_generator(\n",
        "    data_gen_entrenamiento,\n",
        "    steps_per_epoch=int(np.ceil(total_entrenamiento / float(TAMANO_LOTE))),\n",
        "    epochs=epocas,\n",
        "    validation_data=data_gen_validacion,\n",
        "    validation_steps=int(np.ceil(total_prueba / float(TAMANO_LOTE)))\n",
        ")\n",
        "\n",
        "print(\"Modelo entrenado!\");"
      ],
      "metadata": {
        "colab": {
          "base_uri": "https://localhost:8080/"
        },
        "id": "YTSJu5utnSB0",
        "outputId": "4d3d6bb0-d49a-4a23-a351-e4bc4b2bdddc"
      },
      "execution_count": null,
      "outputs": [
        {
          "output_type": "stream",
          "name": "stdout",
          "text": [
            "Realizando aumento de datos\n",
            "Found 2746 images belonging to 5 classes.\n",
            "Found 0 images belonging to 0 classes.\n",
            "Entrenando modelo...\n"
          ]
        },
        {
          "output_type": "stream",
          "name": "stderr",
          "text": [
            "<ipython-input-4-989e8071b852>:60: UserWarning: `Model.fit_generator` is deprecated and will be removed in a future version. Please use `Model.fit`, which supports generators.\n",
            "  history = modelo.fit_generator(\n"
          ]
        },
        {
          "output_type": "stream",
          "name": "stdout",
          "text": [
            "Epoch 1/60\n"
          ]
        },
        {
          "output_type": "stream",
          "name": "stderr",
          "text": [
            "/usr/local/lib/python3.10/dist-packages/keras/src/backend.py:5727: UserWarning: \"`sparse_categorical_crossentropy` received `from_logits=True`, but the `output` argument was produced by a Softmax activation and thus does not represent logits. Was this intended?\n",
            "  output, from_logits = _get_logits(\n"
          ]
        },
        {
          "output_type": "stream",
          "name": "stdout",
          "text": [
            "28/28 [==============================] - 758s 27s/step - loss: 1.4612 - accuracy: 0.3288\n",
            "Epoch 2/60\n",
            "28/28 [==============================] - 29s 1s/step - loss: 1.1964 - accuracy: 0.4811\n",
            "Epoch 3/60\n",
            "28/28 [==============================] - 31s 1s/step - loss: 1.0494 - accuracy: 0.5666\n",
            "Epoch 4/60\n",
            "28/28 [==============================] - 29s 1s/step - loss: 0.9820 - accuracy: 0.6100\n",
            "Epoch 5/60\n",
            "28/28 [==============================] - 29s 1s/step - loss: 0.9186 - accuracy: 0.6231\n",
            "Epoch 6/60\n",
            "28/28 [==============================] - 29s 1s/step - loss: 0.8920 - accuracy: 0.6442\n",
            "Epoch 7/60\n",
            "28/28 [==============================] - 29s 1s/step - loss: 0.8363 - accuracy: 0.6723\n",
            "Epoch 8/60\n",
            "28/28 [==============================] - 29s 1s/step - loss: 0.8001 - accuracy: 0.6861\n",
            "Epoch 9/60\n",
            "28/28 [==============================] - 29s 1s/step - loss: 0.7839 - accuracy: 0.6977\n",
            "Epoch 10/60\n",
            "28/28 [==============================] - 29s 1s/step - loss: 0.7670 - accuracy: 0.6966\n",
            "Epoch 11/60\n",
            "28/28 [==============================] - 29s 1s/step - loss: 0.7893 - accuracy: 0.6868\n",
            "Epoch 12/60\n",
            "28/28 [==============================] - 29s 1s/step - loss: 0.7337 - accuracy: 0.7123\n",
            "Epoch 13/60\n",
            "28/28 [==============================] - 29s 1s/step - loss: 0.7030 - accuracy: 0.7152\n",
            "Epoch 14/60\n",
            "28/28 [==============================] - 31s 1s/step - loss: 0.7168 - accuracy: 0.7291\n",
            "Epoch 15/60\n",
            "28/28 [==============================] - 30s 1s/step - loss: 0.6851 - accuracy: 0.7269\n",
            "Epoch 16/60\n",
            "28/28 [==============================] - 32s 1s/step - loss: 0.6726 - accuracy: 0.7422\n",
            "Epoch 17/60\n",
            "28/28 [==============================] - 30s 1s/step - loss: 0.6402 - accuracy: 0.7487\n",
            "Epoch 18/60\n",
            "28/28 [==============================] - 30s 1s/step - loss: 0.6478 - accuracy: 0.7378\n",
            "Epoch 19/60\n",
            "28/28 [==============================] - 30s 1s/step - loss: 0.6290 - accuracy: 0.7556\n",
            "Epoch 20/60\n",
            "28/28 [==============================] - 30s 1s/step - loss: 0.6441 - accuracy: 0.7429\n",
            "Epoch 21/60\n",
            "28/28 [==============================] - 30s 1s/step - loss: 0.6292 - accuracy: 0.7531\n",
            "Epoch 22/60\n",
            "28/28 [==============================] - 31s 1s/step - loss: 0.5986 - accuracy: 0.7560\n",
            "Epoch 23/60\n",
            "28/28 [==============================] - 32s 1s/step - loss: 0.6006 - accuracy: 0.7644\n",
            "Epoch 24/60\n",
            "28/28 [==============================] - 30s 1s/step - loss: 0.6200 - accuracy: 0.7433\n",
            "Epoch 25/60\n",
            "28/28 [==============================] - 31s 1s/step - loss: 0.6459 - accuracy: 0.7458\n",
            "Epoch 26/60\n",
            "28/28 [==============================] - 31s 1s/step - loss: 0.5922 - accuracy: 0.7669\n",
            "Epoch 27/60\n",
            "28/28 [==============================] - 29s 1s/step - loss: 0.5848 - accuracy: 0.7819\n",
            "Epoch 28/60\n",
            "28/28 [==============================] - 29s 1s/step - loss: 0.5614 - accuracy: 0.7742\n",
            "Epoch 29/60\n",
            "28/28 [==============================] - 29s 1s/step - loss: 0.5357 - accuracy: 0.7804\n",
            "Epoch 30/60\n",
            "28/28 [==============================] - 31s 1s/step - loss: 0.5512 - accuracy: 0.7804\n",
            "Epoch 31/60\n",
            "28/28 [==============================] - 29s 1s/step - loss: 0.5317 - accuracy: 0.7928\n",
            "Epoch 32/60\n",
            "28/28 [==============================] - 29s 1s/step - loss: 0.5204 - accuracy: 0.7990\n",
            "Epoch 33/60\n",
            "28/28 [==============================] - 30s 1s/step - loss: 0.5103 - accuracy: 0.8012\n",
            "Epoch 34/60\n",
            "28/28 [==============================] - 28s 1s/step - loss: 0.4892 - accuracy: 0.8012\n",
            "Epoch 35/60\n",
            "28/28 [==============================] - 29s 1s/step - loss: 0.4919 - accuracy: 0.8041\n",
            "Epoch 36/60\n",
            "28/28 [==============================] - 31s 1s/step - loss: 0.4996 - accuracy: 0.8015\n",
            "Epoch 37/60\n",
            "28/28 [==============================] - 30s 1s/step - loss: 0.4809 - accuracy: 0.8092\n",
            "Epoch 38/60\n",
            "28/28 [==============================] - 30s 1s/step - loss: 0.4612 - accuracy: 0.8212\n",
            "Epoch 39/60\n",
            "28/28 [==============================] - 30s 1s/step - loss: 0.4601 - accuracy: 0.8205\n",
            "Epoch 40/60\n",
            "28/28 [==============================] - 30s 1s/step - loss: 0.4601 - accuracy: 0.8292\n",
            "Epoch 41/60\n",
            "28/28 [==============================] - 29s 1s/step - loss: 0.4533 - accuracy: 0.8256\n",
            "Epoch 42/60\n",
            "28/28 [==============================] - 29s 1s/step - loss: 0.4640 - accuracy: 0.8245\n",
            "Epoch 43/60\n",
            "28/28 [==============================] - 30s 1s/step - loss: 0.4363 - accuracy: 0.8358\n",
            "Epoch 44/60\n",
            "28/28 [==============================] - 28s 1s/step - loss: 0.4497 - accuracy: 0.8190\n",
            "Epoch 45/60\n",
            "28/28 [==============================] - 29s 1s/step - loss: 0.4363 - accuracy: 0.8296\n",
            "Epoch 46/60\n",
            "28/28 [==============================] - 29s 1s/step - loss: 0.4108 - accuracy: 0.8427\n",
            "Epoch 47/60\n",
            "28/28 [==============================] - 28s 1s/step - loss: 0.4329 - accuracy: 0.8361\n",
            "Epoch 48/60\n",
            "28/28 [==============================] - 29s 1s/step - loss: 0.4228 - accuracy: 0.8310\n",
            "Epoch 49/60\n",
            "28/28 [==============================] - 29s 1s/step - loss: 0.4008 - accuracy: 0.8478\n",
            "Epoch 50/60\n",
            "28/28 [==============================] - 31s 1s/step - loss: 0.4024 - accuracy: 0.8390\n",
            "Epoch 51/60\n",
            "28/28 [==============================] - 28s 1000ms/step - loss: 0.4090 - accuracy: 0.8452\n",
            "Epoch 52/60\n",
            "28/28 [==============================] - 28s 1s/step - loss: 0.4333 - accuracy: 0.8310\n",
            "Epoch 53/60\n",
            "28/28 [==============================] - 28s 1s/step - loss: 0.3771 - accuracy: 0.8521\n",
            "Epoch 54/60\n",
            "28/28 [==============================] - 28s 1s/step - loss: 0.3636 - accuracy: 0.8583\n",
            "Epoch 55/60\n",
            "28/28 [==============================] - 29s 1s/step - loss: 0.3674 - accuracy: 0.8620\n",
            "Epoch 56/60\n",
            "28/28 [==============================] - 28s 1s/step - loss: 0.3771 - accuracy: 0.8507\n",
            "Epoch 57/60\n",
            "28/28 [==============================] - 28s 1s/step - loss: 0.3881 - accuracy: 0.8460\n",
            "Epoch 58/60\n",
            "28/28 [==============================] - 30s 1s/step - loss: 0.4016 - accuracy: 0.8481\n",
            "Epoch 59/60\n",
            "28/28 [==============================] - 28s 981ms/step - loss: 0.3670 - accuracy: 0.8576\n",
            "Epoch 60/60\n",
            "28/28 [==============================] - 29s 1s/step - loss: 0.3299 - accuracy: 0.8667\n",
            "Modelo entrenado!\n"
          ]
        }
      ]
    },
    {
      "cell_type": "code",
      "source": [
        "#Exportar el modelo en formato h5\n",
        "modelo.save('Tensor_flowers_model.h5')"
      ],
      "metadata": {
        "colab": {
          "base_uri": "https://localhost:8080/"
        },
        "id": "2fYVvIeiLkIm",
        "outputId": "e51aa605-b0b0-432e-d33d-bef6f9f09e08"
      },
      "execution_count": null,
      "outputs": [
        {
          "output_type": "stream",
          "name": "stderr",
          "text": [
            "/usr/local/lib/python3.10/dist-packages/keras/src/engine/training.py:3103: UserWarning: You are saving your model as an HDF5 file via `model.save()`. This file format is considered legacy. We recommend using instead the native Keras format, e.g. `model.save('my_model.keras')`.\n",
            "  saving_api.save_model(\n"
          ]
        }
      ]
    },
    {
      "cell_type": "code",
      "metadata": {
        "id": "UzpZjGgUWuN7",
        "colab": {
          "base_uri": "https://localhost:8080/",
          "height": 1000
        },
        "outputId": "f511bcc0-0753-492e-a23e-8c4064e56078"
      },
      "source": [
        "#Para convertirlo a tensorflow.js, primero debemos instalar la libreria\n",
        "!pip install tensorflowjs"
      ],
      "execution_count": null,
      "outputs": [
        {
          "output_type": "stream",
          "name": "stdout",
          "text": [
            "Collecting tensorflowjs\n",
            "  Downloading tensorflowjs-4.19.0-py3-none-any.whl (89 kB)\n",
            "\u001b[?25l     \u001b[90m━━━━━━━━━━━━━━━━━━━━━━━━━━━━━━━━━━━━━━━━\u001b[0m \u001b[32m0.0/89.1 kB\u001b[0m \u001b[31m?\u001b[0m eta \u001b[36m-:--:--\u001b[0m\r\u001b[2K     \u001b[90m━━━━━━━━━━━━━━━━━━━━━━━━━━━━━━━━━━━━━━━━\u001b[0m \u001b[32m89.1/89.1 kB\u001b[0m \u001b[31m3.0 MB/s\u001b[0m eta \u001b[36m0:00:00\u001b[0m\n",
            "\u001b[?25hRequirement already satisfied: flax>=0.7.2 in /usr/local/lib/python3.10/dist-packages (from tensorflowjs) (0.8.3)\n",
            "Requirement already satisfied: importlib_resources>=5.9.0 in /usr/local/lib/python3.10/dist-packages (from tensorflowjs) (6.4.0)\n",
            "Requirement already satisfied: jax>=0.4.13 in /usr/local/lib/python3.10/dist-packages (from tensorflowjs) (0.4.26)\n",
            "Requirement already satisfied: jaxlib>=0.4.13 in /usr/local/lib/python3.10/dist-packages (from tensorflowjs) (0.4.26+cuda12.cudnn89)\n",
            "Requirement already satisfied: tensorflow<3,>=2.13.0 in /usr/local/lib/python3.10/dist-packages (from tensorflowjs) (2.15.0)\n",
            "Requirement already satisfied: tf-keras>=2.13.0 in /usr/local/lib/python3.10/dist-packages (from tensorflowjs) (2.15.1)\n",
            "Collecting tensorflow-decision-forests>=1.5.0 (from tensorflowjs)\n",
            "  Downloading tensorflow_decision_forests-1.9.0-cp310-cp310-manylinux_2_17_x86_64.manylinux2014_x86_64.whl (15.5 MB)\n",
            "\u001b[2K     \u001b[90m━━━━━━━━━━━━━━━━━━━━━━━━━━━━━━━━━━━━━━━━\u001b[0m \u001b[32m15.5/15.5 MB\u001b[0m \u001b[31m40.0 MB/s\u001b[0m eta \u001b[36m0:00:00\u001b[0m\n",
            "\u001b[?25hRequirement already satisfied: six<2,>=1.16.0 in /usr/local/lib/python3.10/dist-packages (from tensorflowjs) (1.16.0)\n",
            "Requirement already satisfied: tensorflow-hub>=0.16.1 in /usr/local/lib/python3.10/dist-packages (from tensorflowjs) (0.16.1)\n",
            "Collecting packaging~=23.1 (from tensorflowjs)\n",
            "  Downloading packaging-23.2-py3-none-any.whl (53 kB)\n",
            "\u001b[2K     \u001b[90m━━━━━━━━━━━━━━━━━━━━━━━━━━━━━━━━━━━━━━━━\u001b[0m \u001b[32m53.0/53.0 kB\u001b[0m \u001b[31m7.6 MB/s\u001b[0m eta \u001b[36m0:00:00\u001b[0m\n",
            "\u001b[?25hRequirement already satisfied: numpy>=1.22 in /usr/local/lib/python3.10/dist-packages (from flax>=0.7.2->tensorflowjs) (1.25.2)\n",
            "Requirement already satisfied: msgpack in /usr/local/lib/python3.10/dist-packages (from flax>=0.7.2->tensorflowjs) (1.0.8)\n",
            "Requirement already satisfied: optax in /usr/local/lib/python3.10/dist-packages (from flax>=0.7.2->tensorflowjs) (0.2.2)\n",
            "Requirement already satisfied: orbax-checkpoint in /usr/local/lib/python3.10/dist-packages (from flax>=0.7.2->tensorflowjs) (0.4.4)\n",
            "Requirement already satisfied: tensorstore in /usr/local/lib/python3.10/dist-packages (from flax>=0.7.2->tensorflowjs) (0.1.45)\n",
            "Requirement already satisfied: rich>=11.1 in /usr/local/lib/python3.10/dist-packages (from flax>=0.7.2->tensorflowjs) (13.7.1)\n",
            "Requirement already satisfied: typing-extensions>=4.2 in /usr/local/lib/python3.10/dist-packages (from flax>=0.7.2->tensorflowjs) (4.11.0)\n",
            "Requirement already satisfied: PyYAML>=5.4.1 in /usr/local/lib/python3.10/dist-packages (from flax>=0.7.2->tensorflowjs) (6.0.1)\n",
            "Requirement already satisfied: ml-dtypes>=0.2.0 in /usr/local/lib/python3.10/dist-packages (from jax>=0.4.13->tensorflowjs) (0.2.0)\n",
            "Requirement already satisfied: opt-einsum in /usr/local/lib/python3.10/dist-packages (from jax>=0.4.13->tensorflowjs) (3.3.0)\n",
            "Requirement already satisfied: scipy>=1.9 in /usr/local/lib/python3.10/dist-packages (from jax>=0.4.13->tensorflowjs) (1.11.4)\n",
            "Requirement already satisfied: absl-py>=1.0.0 in /usr/local/lib/python3.10/dist-packages (from tensorflow<3,>=2.13.0->tensorflowjs) (1.4.0)\n",
            "Requirement already satisfied: astunparse>=1.6.0 in /usr/local/lib/python3.10/dist-packages (from tensorflow<3,>=2.13.0->tensorflowjs) (1.6.3)\n",
            "Requirement already satisfied: flatbuffers>=23.5.26 in /usr/local/lib/python3.10/dist-packages (from tensorflow<3,>=2.13.0->tensorflowjs) (24.3.25)\n",
            "Requirement already satisfied: gast!=0.5.0,!=0.5.1,!=0.5.2,>=0.2.1 in /usr/local/lib/python3.10/dist-packages (from tensorflow<3,>=2.13.0->tensorflowjs) (0.5.4)\n",
            "Requirement already satisfied: google-pasta>=0.1.1 in /usr/local/lib/python3.10/dist-packages (from tensorflow<3,>=2.13.0->tensorflowjs) (0.2.0)\n",
            "Requirement already satisfied: h5py>=2.9.0 in /usr/local/lib/python3.10/dist-packages (from tensorflow<3,>=2.13.0->tensorflowjs) (3.9.0)\n",
            "Requirement already satisfied: libclang>=13.0.0 in /usr/local/lib/python3.10/dist-packages (from tensorflow<3,>=2.13.0->tensorflowjs) (18.1.1)\n",
            "Requirement already satisfied: protobuf!=4.21.0,!=4.21.1,!=4.21.2,!=4.21.3,!=4.21.4,!=4.21.5,<5.0.0dev,>=3.20.3 in /usr/local/lib/python3.10/dist-packages (from tensorflow<3,>=2.13.0->tensorflowjs) (3.20.3)\n",
            "Requirement already satisfied: setuptools in /usr/local/lib/python3.10/dist-packages (from tensorflow<3,>=2.13.0->tensorflowjs) (67.7.2)\n",
            "Requirement already satisfied: termcolor>=1.1.0 in /usr/local/lib/python3.10/dist-packages (from tensorflow<3,>=2.13.0->tensorflowjs) (2.4.0)\n",
            "Requirement already satisfied: wrapt<1.15,>=1.11.0 in /usr/local/lib/python3.10/dist-packages (from tensorflow<3,>=2.13.0->tensorflowjs) (1.14.1)\n",
            "Requirement already satisfied: tensorflow-io-gcs-filesystem>=0.23.1 in /usr/local/lib/python3.10/dist-packages (from tensorflow<3,>=2.13.0->tensorflowjs) (0.36.0)\n",
            "Requirement already satisfied: grpcio<2.0,>=1.24.3 in /usr/local/lib/python3.10/dist-packages (from tensorflow<3,>=2.13.0->tensorflowjs) (1.63.0)\n",
            "Requirement already satisfied: tensorboard<2.16,>=2.15 in /usr/local/lib/python3.10/dist-packages (from tensorflow<3,>=2.13.0->tensorflowjs) (2.15.2)\n",
            "Requirement already satisfied: tensorflow-estimator<2.16,>=2.15.0 in /usr/local/lib/python3.10/dist-packages (from tensorflow<3,>=2.13.0->tensorflowjs) (2.15.0)\n",
            "Requirement already satisfied: keras<2.16,>=2.15.0 in /usr/local/lib/python3.10/dist-packages (from tensorflow<3,>=2.13.0->tensorflowjs) (2.15.0)\n",
            "Requirement already satisfied: pandas in /usr/local/lib/python3.10/dist-packages (from tensorflow-decision-forests>=1.5.0->tensorflowjs) (2.0.3)\n",
            "Collecting tensorflow<3,>=2.13.0 (from tensorflowjs)\n",
            "  Downloading tensorflow-2.16.1-cp310-cp310-manylinux_2_17_x86_64.manylinux2014_x86_64.whl (589.8 MB)\n",
            "\u001b[2K     \u001b[90m━━━━━━━━━━━━━━━━━━━━━━━━━━━━━━━━━━━━━━━━\u001b[0m \u001b[32m589.8/589.8 MB\u001b[0m \u001b[31m2.8 MB/s\u001b[0m eta \u001b[36m0:00:00\u001b[0m\n",
            "\u001b[?25hRequirement already satisfied: wheel in /usr/local/lib/python3.10/dist-packages (from tensorflow-decision-forests>=1.5.0->tensorflowjs) (0.43.0)\n",
            "Collecting wurlitzer (from tensorflow-decision-forests>=1.5.0->tensorflowjs)\n",
            "  Downloading wurlitzer-3.1.0-py3-none-any.whl (8.4 kB)\n",
            "Collecting tf-keras>=2.13.0 (from tensorflowjs)\n",
            "  Downloading tf_keras-2.16.0-py3-none-any.whl (1.7 MB)\n",
            "\u001b[2K     \u001b[90m━━━━━━━━━━━━━━━━━━━━━━━━━━━━━━━━━━━━━━━━\u001b[0m \u001b[32m1.7/1.7 MB\u001b[0m \u001b[31m80.0 MB/s\u001b[0m eta \u001b[36m0:00:00\u001b[0m\n",
            "\u001b[?25hCollecting h5py>=3.10.0 (from tensorflow<3,>=2.13.0->tensorflowjs)\n",
            "  Downloading h5py-3.11.0-cp310-cp310-manylinux_2_17_x86_64.manylinux2014_x86_64.whl (5.3 MB)\n",
            "\u001b[2K     \u001b[90m━━━━━━━━━━━━━━━━━━━━━━━━━━━━━━━━━━━━━━━━\u001b[0m \u001b[32m5.3/5.3 MB\u001b[0m \u001b[31m86.7 MB/s\u001b[0m eta \u001b[36m0:00:00\u001b[0m\n",
            "\u001b[?25hCollecting ml-dtypes>=0.2.0 (from jax>=0.4.13->tensorflowjs)\n",
            "  Downloading ml_dtypes-0.3.2-cp310-cp310-manylinux_2_17_x86_64.manylinux2014_x86_64.whl (2.2 MB)\n",
            "\u001b[2K     \u001b[90m━━━━━━━━━━━━━━━━━━━━━━━━━━━━━━━━━━━━━━━━\u001b[0m \u001b[32m2.2/2.2 MB\u001b[0m \u001b[31m95.3 MB/s\u001b[0m eta \u001b[36m0:00:00\u001b[0m\n",
            "\u001b[?25hRequirement already satisfied: requests<3,>=2.21.0 in /usr/local/lib/python3.10/dist-packages (from tensorflow<3,>=2.13.0->tensorflowjs) (2.31.0)\n",
            "Collecting tensorboard<2.17,>=2.16 (from tensorflow<3,>=2.13.0->tensorflowjs)\n",
            "  Downloading tensorboard-2.16.2-py3-none-any.whl (5.5 MB)\n",
            "\u001b[2K     \u001b[90m━━━━━━━━━━━━━━━━━━━━━━━━━━━━━━━━━━━━━━━━\u001b[0m \u001b[32m5.5/5.5 MB\u001b[0m \u001b[31m102.2 MB/s\u001b[0m eta \u001b[36m0:00:00\u001b[0m\n",
            "\u001b[?25hCollecting keras>=3.0.0 (from tensorflow<3,>=2.13.0->tensorflowjs)\n",
            "  Downloading keras-3.3.3-py3-none-any.whl (1.1 MB)\n",
            "\u001b[2K     \u001b[90m━━━━━━━━━━━━━━━━━━━━━━━━━━━━━━━━━━━━━━━━\u001b[0m \u001b[32m1.1/1.1 MB\u001b[0m \u001b[31m70.4 MB/s\u001b[0m eta \u001b[36m0:00:00\u001b[0m\n",
            "\u001b[?25hCollecting namex (from keras>=3.0.0->tensorflow<3,>=2.13.0->tensorflowjs)\n",
            "  Downloading namex-0.0.8-py3-none-any.whl (5.8 kB)\n",
            "Collecting optree (from keras>=3.0.0->tensorflow<3,>=2.13.0->tensorflowjs)\n",
            "  Downloading optree-0.11.0-cp310-cp310-manylinux_2_17_x86_64.manylinux2014_x86_64.whl (311 kB)\n",
            "\u001b[2K     \u001b[90m━━━━━━━━━━━━━━━━━━━━━━━━━━━━━━━━━━━━━━━━\u001b[0m \u001b[32m311.2/311.2 kB\u001b[0m \u001b[31m37.3 MB/s\u001b[0m eta \u001b[36m0:00:00\u001b[0m\n",
            "\u001b[?25hRequirement already satisfied: charset-normalizer<4,>=2 in /usr/local/lib/python3.10/dist-packages (from requests<3,>=2.21.0->tensorflow<3,>=2.13.0->tensorflowjs) (3.3.2)\n",
            "Requirement already satisfied: idna<4,>=2.5 in /usr/local/lib/python3.10/dist-packages (from requests<3,>=2.21.0->tensorflow<3,>=2.13.0->tensorflowjs) (3.7)\n",
            "Requirement already satisfied: urllib3<3,>=1.21.1 in /usr/local/lib/python3.10/dist-packages (from requests<3,>=2.21.0->tensorflow<3,>=2.13.0->tensorflowjs) (2.0.7)\n",
            "Requirement already satisfied: certifi>=2017.4.17 in /usr/local/lib/python3.10/dist-packages (from requests<3,>=2.21.0->tensorflow<3,>=2.13.0->tensorflowjs) (2024.2.2)\n",
            "Requirement already satisfied: markdown-it-py>=2.2.0 in /usr/local/lib/python3.10/dist-packages (from rich>=11.1->flax>=0.7.2->tensorflowjs) (3.0.0)\n",
            "Requirement already satisfied: pygments<3.0.0,>=2.13.0 in /usr/local/lib/python3.10/dist-packages (from rich>=11.1->flax>=0.7.2->tensorflowjs) (2.16.1)\n",
            "Requirement already satisfied: markdown>=2.6.8 in /usr/local/lib/python3.10/dist-packages (from tensorboard<2.17,>=2.16->tensorflow<3,>=2.13.0->tensorflowjs) (3.6)\n",
            "Requirement already satisfied: tensorboard-data-server<0.8.0,>=0.7.0 in /usr/local/lib/python3.10/dist-packages (from tensorboard<2.17,>=2.16->tensorflow<3,>=2.13.0->tensorflowjs) (0.7.2)\n",
            "Requirement already satisfied: werkzeug>=1.0.1 in /usr/local/lib/python3.10/dist-packages (from tensorboard<2.17,>=2.16->tensorflow<3,>=2.13.0->tensorflowjs) (3.0.2)\n",
            "Requirement already satisfied: chex>=0.1.86 in /usr/local/lib/python3.10/dist-packages (from optax->flax>=0.7.2->tensorflowjs) (0.1.86)\n",
            "Requirement already satisfied: etils[epath,epy] in /usr/local/lib/python3.10/dist-packages (from orbax-checkpoint->flax>=0.7.2->tensorflowjs) (1.7.0)\n",
            "Requirement already satisfied: nest_asyncio in /usr/local/lib/python3.10/dist-packages (from orbax-checkpoint->flax>=0.7.2->tensorflowjs) (1.6.0)\n",
            "Requirement already satisfied: python-dateutil>=2.8.2 in /usr/local/lib/python3.10/dist-packages (from pandas->tensorflow-decision-forests>=1.5.0->tensorflowjs) (2.8.2)\n",
            "Requirement already satisfied: pytz>=2020.1 in /usr/local/lib/python3.10/dist-packages (from pandas->tensorflow-decision-forests>=1.5.0->tensorflowjs) (2023.4)\n",
            "Requirement already satisfied: tzdata>=2022.1 in /usr/local/lib/python3.10/dist-packages (from pandas->tensorflow-decision-forests>=1.5.0->tensorflowjs) (2024.1)\n",
            "Requirement already satisfied: toolz>=0.9.0 in /usr/local/lib/python3.10/dist-packages (from chex>=0.1.86->optax->flax>=0.7.2->tensorflowjs) (0.12.1)\n",
            "Requirement already satisfied: mdurl~=0.1 in /usr/local/lib/python3.10/dist-packages (from markdown-it-py>=2.2.0->rich>=11.1->flax>=0.7.2->tensorflowjs) (0.1.2)\n",
            "Requirement already satisfied: MarkupSafe>=2.1.1 in /usr/local/lib/python3.10/dist-packages (from werkzeug>=1.0.1->tensorboard<2.17,>=2.16->tensorflow<3,>=2.13.0->tensorflowjs) (2.1.5)\n",
            "Requirement already satisfied: fsspec in /usr/local/lib/python3.10/dist-packages (from etils[epath,epy]->orbax-checkpoint->flax>=0.7.2->tensorflowjs) (2023.6.0)\n",
            "Requirement already satisfied: zipp in /usr/local/lib/python3.10/dist-packages (from etils[epath,epy]->orbax-checkpoint->flax>=0.7.2->tensorflowjs) (3.18.1)\n",
            "Installing collected packages: namex, wurlitzer, packaging, optree, ml-dtypes, h5py, tensorboard, keras, tensorflow, tf-keras, tensorflow-decision-forests, tensorflowjs\n",
            "  Attempting uninstall: packaging\n",
            "    Found existing installation: packaging 24.0\n",
            "    Uninstalling packaging-24.0:\n",
            "      Successfully uninstalled packaging-24.0\n",
            "  Attempting uninstall: ml-dtypes\n",
            "    Found existing installation: ml-dtypes 0.2.0\n",
            "    Uninstalling ml-dtypes-0.2.0:\n",
            "      Successfully uninstalled ml-dtypes-0.2.0\n",
            "  Attempting uninstall: h5py\n",
            "    Found existing installation: h5py 3.9.0\n",
            "    Uninstalling h5py-3.9.0:\n",
            "      Successfully uninstalled h5py-3.9.0\n",
            "  Attempting uninstall: tensorboard\n",
            "    Found existing installation: tensorboard 2.15.2\n",
            "    Uninstalling tensorboard-2.15.2:\n",
            "      Successfully uninstalled tensorboard-2.15.2\n",
            "  Attempting uninstall: keras\n",
            "    Found existing installation: keras 2.15.0\n",
            "    Uninstalling keras-2.15.0:\n",
            "      Successfully uninstalled keras-2.15.0\n",
            "  Attempting uninstall: tensorflow\n",
            "    Found existing installation: tensorflow 2.15.0\n",
            "    Uninstalling tensorflow-2.15.0:\n",
            "      Successfully uninstalled tensorflow-2.15.0\n",
            "  Attempting uninstall: tf-keras\n",
            "    Found existing installation: tf_keras 2.15.1\n",
            "    Uninstalling tf_keras-2.15.1:\n",
            "      Successfully uninstalled tf_keras-2.15.1\n",
            "Successfully installed h5py-3.11.0 keras-3.3.3 ml-dtypes-0.3.2 namex-0.0.8 optree-0.11.0 packaging-23.2 tensorboard-2.16.2 tensorflow-2.16.1 tensorflow-decision-forests-1.9.0 tensorflowjs-4.19.0 tf-keras-2.16.0 wurlitzer-3.1.0\n"
          ]
        },
        {
          "output_type": "display_data",
          "data": {
            "application/vnd.colab-display-data+json": {
              "pip_warning": {
                "packages": [
                  "h5py",
                  "keras",
                  "ml_dtypes",
                  "tensorboard",
                  "tensorflow"
                ]
              },
              "id": "a5e6d3489cc44977aef2cbeb1921bd90"
            }
          },
          "metadata": {}
        }
      ]
    },
    {
      "cell_type": "code",
      "metadata": {
        "id": "2v5uaQ_BWuLL"
      },
      "source": [
        "#Crear carpeta donde se colocaran los archivos resultantes\n",
        "!mkdir carpeta_salida"
      ],
      "execution_count": null,
      "outputs": []
    },
    {
      "cell_type": "code",
      "metadata": {
        "id": "T_rtgd1_WuGk",
        "colab": {
          "base_uri": "https://localhost:8080/"
        },
        "outputId": "18e21867-899e-4aee-9395-dd99444e62ea"
      },
      "source": [
        "#Realizar la exportacion a la carpeta de salida\n",
        "!tensorflowjs_converter --input_format keras Tensor_flowers_model.h5 carpeta_salida"
      ],
      "execution_count": null,
      "outputs": [
        {
          "output_type": "stream",
          "name": "stdout",
          "text": [
            "2024-05-03 07:37:23.570158: W tensorflow/compiler/tf2tensorrt/utils/py_utils.cc:38] TF-TRT Warning: Could not find TensorRT\n"
          ]
        }
      ]
    },
    {
      "cell_type": "code",
      "metadata": {
        "id": "kd99qwADW4qt"
      },
      "source": [
        "#Confirmar que en la carpeta de salida se hayan generado los archivos. Deben aparecer archivos \"bin\" y \"json\"\n",
        "!ls carpeta_salida"
      ],
      "execution_count": null,
      "outputs": []
    },
    {
      "cell_type": "code",
      "metadata": {
        "id": "HeDA6P0CW4oa"
      },
      "source": [
        "#Para descargarlos, da clic del lado izquierdo en el icono de la carpeta\n",
        "#y expande carpeta_salida. En los archivos utiliza los 3 puntos para descargarlos"
      ],
      "execution_count": null,
      "outputs": []
    }
  ]
}