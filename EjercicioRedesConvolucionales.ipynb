{
  "nbformat": 4,
  "nbformat_minor": 0,
  "metadata": {
    "colab": {
      "provenance": [],
      "authorship_tag": "ABX9TyOzKkJtXxzhwkmWk64duy99",
      "include_colab_link": true
    },
    "kernelspec": {
      "name": "python3",
      "display_name": "Python 3"
    },
    "language_info": {
      "name": "python"
    }
  },
  "cells": [
    {
      "cell_type": "markdown",
      "metadata": {
        "id": "view-in-github",
        "colab_type": "text"
      },
      "source": [
        "<a href=\"https://colab.research.google.com/github/JuanArmas/BigData7RO/blob/main/EjercicioRedesConvolucionales.ipynb\" target=\"_parent\"><img src=\"https://colab.research.google.com/assets/colab-badge.svg\" alt=\"Open In Colab\"/></a>"
      ]
    },
    {
      "cell_type": "markdown",
      "source": [
        "# Autor: Juan Armas Aleman\n",
        "\n"
      ],
      "metadata": {
        "id": "CqSwchndldGL"
      }
    },
    {
      "cell_type": "markdown",
      "source": [
        "Github: https://github.com/JuanArmas/BigData7RO/blob/main/EjercicioRedesConvolucionales.ipynb"
      ],
      "metadata": {
        "id": "y55j0NVqlj-T"
      }
    },
    {
      "cell_type": "markdown",
      "source": [
        "Drive: https://drive.google.com/drive/folders/1lrypu655juvWbsoflUMi1A37gNKKawjt?usp=sharing"
      ],
      "metadata": {
        "id": "HIfmSQUrUGyq"
      }
    },
    {
      "cell_type": "code",
      "execution_count": 17,
      "metadata": {
        "id": "5cHn-2CfEA3s"
      },
      "outputs": [],
      "source": [
        "import os\n",
        "import cv2\n",
        "import glob\n",
        "import keras\n",
        "import shutil\n",
        "import random\n",
        "import numpy as np\n",
        "import tensorflow as tf\n",
        "import matplotlib.pyplot as plt\n",
        "\n",
        "from keras import regularizers\n",
        "from google.colab import drive\n",
        "from keras.optimizers import Adam\n",
        "from keras.models import Sequential\n",
        "from keras.utils import to_categorical\n",
        "from keras.regularizers import l1 , l2, l1_l2\n",
        "from keras.layers import Dense, BatchNormalization\n",
        "from sklearn.model_selection import train_test_split\n",
        "from keras.layers import Conv2D, MaxPooling2D, Flatten\n",
        "\n",
        "# from mpl_toolkits.mplot3d import Axes3D\n",
        "\n",
        "\n"
      ]
    },
    {
      "cell_type": "markdown",
      "source": [
        "#Carga y normalización de datos"
      ],
      "metadata": {
        "id": "h4djKhB85hBS"
      }
    },
    {
      "cell_type": "code",
      "source": [
        "# Generamos acceso al drive\n",
        "drive.mount('/content/drive')\n"
      ],
      "metadata": {
        "id": "-JxG1bxSQegh"
      },
      "execution_count": null,
      "outputs": []
    },
    {
      "cell_type": "markdown",
      "source": [
        "Carga de los datos del drive y creacion de la carpeta donde se almacenarán las imagenes una vez procesadas y normalizadas"
      ],
      "metadata": {
        "id": "edxSbVDO4ILX"
      }
    },
    {
      "cell_type": "code",
      "source": [
        "# Cargamos la información del drive para poder acceder a ella\n",
        "input_images_path = \"/content/drive/MyDrive/Chess/\"\n",
        "output_images_path = \"/content/drive/MyDrive/ChessProcessed/\"\n",
        "\n",
        "# Crear el directorio de salida si no existe\n",
        "if not os.path.exists(output_images_path):\n",
        "    os.makedirs(output_images_path)\n",
        "    print(\"Directorio creado: \", output_images_path)\n"
      ],
      "metadata": {
        "id": "BqqFMb6wIdBA"
      },
      "execution_count": 5,
      "outputs": []
    },
    {
      "cell_type": "markdown",
      "source": [
        "Obtenemos la lista de carpetas donde estarán las distintas imágenes"
      ],
      "metadata": {
        "id": "sKYhy1Lx4oqW"
      }
    },
    {
      "cell_type": "code",
      "source": [
        "# Listar las carpetas de piezas\n",
        "piece_folders = os.listdir(input_images_path)\n",
        "\n",
        "piece_folders"
      ],
      "metadata": {
        "colab": {
          "base_uri": "https://localhost:8080/"
        },
        "id": "wk9RKuQE4pGs",
        "outputId": "216c41e6-a0aa-4ce3-ee31-d59d8353cbe2"
      },
      "execution_count": 6,
      "outputs": [
        {
          "output_type": "execute_result",
          "data": {
            "text/plain": [
              "['Rook', 'Knight', 'Queen', 'Pawn', 'Bishop', 'King']"
            ]
          },
          "metadata": {},
          "execution_count": 6
        }
      ]
    },
    {
      "cell_type": "markdown",
      "source": [
        "# Estandarizamos todas las imágenes a tamaño 64 x 64\n",
        "\n"
      ],
      "metadata": {
        "id": "5n2mZvqD_5Am"
      }
    },
    {
      "cell_type": "code",
      "source": [
        "# img_rows,img_cols = 128,117\n",
        "img_rows,img_cols = 64,64\n",
        "\n",
        "# Tamaño de las imágenes\n",
        "imagen_ancho = img_rows\n",
        "imagen_alto = img_cols\n",
        "\n",
        "# Número de clases\n",
        "numero_clases = 6\n",
        "imagen_ancho,imagen_alto"
      ],
      "metadata": {
        "id": "_UhLrIRX_5Wj"
      },
      "execution_count": 7,
      "outputs": []
    },
    {
      "cell_type": "markdown",
      "source": [
        "Las imágenes sintéticas generadas por el Data augmentation, se deberán almacenar en una carpeta predeterminada. Al iniciar el algoritmo este verificará si la carpeta ya existe y si es así, la borrará y la creará de nuevo. Esta medida se toma debido a que las imágenes sintéticas se irán creando cada vez que se ejecute el código y por lo tanto, para evitar su crecimiento exponencial con cada ejecución."
      ],
      "metadata": {
        "id": "sDHl-cM65azx"
      }
    },
    {
      "cell_type": "code",
      "source": [
        "# Crear el directorio de salida si no existe\n",
        "if not os.path.exists(output_images_path):\n",
        "  os.makedirs(output_images_path)\n",
        "else:\n",
        "  shutil.rmtree(output_images_path) #se borrará la carpeta con todo su contenido\n",
        "  os.makedirs(output_images_path) # se creará de nuevo la carpeta vacía"
      ],
      "metadata": {
        "id": "3kLLWDFvXA4T"
      },
      "execution_count": null,
      "outputs": []
    },
    {
      "cell_type": "markdown",
      "source": [
        "Se definen hiperparámetros y se crean distintas listas donde irán almacenandose las imágenes en distitnos estados de procesamiento.\n",
        "\n",
        "Los hiperparámetros que definimos aquí indican las características de las imágenes. Iniciamos las dimensiones, rangos de brillos y porcentaje de rotación para el Data augmentation."
      ],
      "metadata": {
        "id": "SrwWTn8BXDHJ"
      }
    },
    {
      "cell_type": "code",
      "source": [
        "# definir dimensiones de las imagenes\n",
        "image_size = imagen_ancho,imagen_alto\n",
        "# Lista para almacenar todas las imágenes (todas y redimensionadas)\n",
        "all_images = []\n",
        "resized_image = []\n",
        "\n",
        "# Lista para almacenar todas las etiquetas\n",
        "all_labels = []\n",
        "\n",
        "# Definir las técnicas de Data Augmentation\n",
        "brightness_range = (-0.1, 0.1)\n",
        "rotation_range = 20"
      ],
      "metadata": {
        "id": "Jn9HvDNSXCiH"
      },
      "execution_count": null,
      "outputs": []
    },
    {
      "cell_type": "markdown",
      "source": [
        "En este bucle es donde se trabaja y modifican las imágenes, es la primera parte de la normalización y tratamiento de datos que le pasaremos a la red neuronal.\n",
        "\n",
        "Inicialmente se recorren todas las carpetas que están dentro de la carpeta input_images_path y se crean rutas a las distintas carpetas para ir accediendo a ellas y extraer las imágenes.\n",
        "\n",
        "Los nombres de estas imágenes se van almacenando en file_name y se va diferenciando las que iteresan de las que no. En este caso, dentro de todos los archivos que se encuentran en la carpeta original, se diferencia entre los que tengan determinadas extensiones de imágenes válidas y se cargan en la lista \"image\".\n",
        "\n",
        "Se redimensionan las imagenes originales a 64x64 y se van añadiendo a las listas las imágenes, y los indices a la lista labels.\n",
        "\n",
        "Sobre las originales aplicamos el aumento de datos sitéticos, aplicando los hiperparámetros para generar distintas muestras. y se redimensionan a la misma escala que los datos originales.\n",
        "\n",
        "Finalmente se añaden estas muestras sintéticas a la lista donde se encuentran los datos originales"
      ],
      "metadata": {
        "id": "nG5ivmciaUJb"
      }
    },
    {
      "cell_type": "code",
      "source": [
        "# Recorrer las carpetas de piezas\n",
        "for label, piece_folder in enumerate(os.listdir(input_images_path)):\n",
        "  piece_path = os.path.join(input_images_path, piece_folder)\n",
        "\n",
        "  # Almacenar las imágenes originales y generar aumentadas\n",
        "  for file_name in os.listdir(piece_path):\n",
        "    if file_name.endswith(('.jpg', '.jpeg', '.png')):\n",
        "      image_path = os.path.join(piece_path, file_name)\n",
        "      image = cv2.imread(image_path, cv2.IMREAD_COLOR)\n",
        "\n",
        "      # Redimensionar la imagen\n",
        "      resized_image = cv2.resize(image, image_size, interpolation=cv2.INTER_AREA)\n",
        "      # print(resized_image.shape)  # Imprime la forma de la imagen actual\n",
        "\n",
        "      # Almacenar imagen original\n",
        "      all_images.append(resized_image)\n",
        "      all_labels.append(int(label))\n",
        "\n",
        "      # Aplicar Data Augmentation (brillo y rotación)\n",
        "      augmented_image_brightness = tf.keras.preprocessing.image.random_brightness(image.copy(), brightness_range, scale=True)\n",
        "      augmented_image_rotation = tf.keras.preprocessing.image.random_rotation(image.copy(), rotation_range)\n",
        "\n",
        "      # Redimensionar las imágenes aumentadas\n",
        "      resized_image_brightness = cv2.resize(augmented_image_brightness, image_size, interpolation=cv2.INTER_AREA)\n",
        "      resized_image_rotation = cv2.resize(augmented_image_rotation, image_size, interpolation=cv2.INTER_AREA)\n",
        "\n",
        "      # Guardar imágenes aumentadas con nombre único\n",
        "      new_file_name_brightness = f\"{file_name}_brightness_{random.randint(1, 1000)}.jpg\"\n",
        "      cv2.imwrite(os.path.join(output_images_path, new_file_name_brightness), resized_image_brightness)\n",
        "      all_images.append(resized_image_brightness)\n",
        "      all_labels.append(int(label))\n",
        "\n",
        "      new_file_name_rotation = f\"{file_name}_rotation_{random.randint(1, 1000)}.jpg\"\n",
        "      cv2.imwrite(os.path.join(output_images_path, new_file_name_rotation), resized_image_rotation)\n",
        "      all_images.append(resized_image_rotation)\n",
        "      all_labels.append(int(label))"
      ],
      "metadata": {
        "id": "vhT6MHAFVqkV"
      },
      "execution_count": 8,
      "outputs": []
    },
    {
      "cell_type": "markdown",
      "source": [
        "Convertimos las listas en arrays de numpy"
      ],
      "metadata": {
        "id": "pnb2a1La_iOq"
      }
    },
    {
      "cell_type": "code",
      "source": [
        "# desordenar las listas con:\n",
        "\n",
        "data = np.array(all_images)\n",
        "labels = np.array(all_labels)\n",
        "\n",
        "perm = np.random.permutation(len(data))\n",
        "data, labels = data[perm], labels[perm]"
      ],
      "metadata": {
        "id": "-ElOlmVh_vEd"
      },
      "execution_count": 9,
      "outputs": []
    },
    {
      "cell_type": "markdown",
      "source": [
        "# División del conjunto de datos train, test, validación"
      ],
      "metadata": {
        "id": "NQMfavAz5vrz"
      }
    },
    {
      "cell_type": "markdown",
      "source": [
        "En este punto generamos los datos de entrenamiento y validación y le asignamos un 80% a entrenamiento y un 20% a repartir entre test y validation."
      ],
      "metadata": {
        "id": "T3wVYubQh7Uu"
      }
    },
    {
      "cell_type": "code",
      "source": [
        "# Codificar las etiquetas categóricamente con el número correcto de clases (6)\n",
        "labels = to_categorical(labels, num_classes=6)\n",
        "\n",
        "split_train = int(0.8 * len(data))  # 80% para entrenamiento\n",
        "split_test = int(0.1 * len(data))  # 10% para test\n",
        "split_val = int(0.1 * len(data))    # 10% para validación\n",
        "\n",
        "# Se marcan las limitaciones en las listas que están destinadas a cada conjunto de datos\n",
        "X_train, y_train = data[:split_train], labels[:split_train]\n",
        "X_val, y_val = data[split_train:split_val], labels[split_train:split_val]\n",
        "X_test, y_test = data[split_val:], labels[split_val:]"
      ],
      "metadata": {
        "id": "xlIpg1EtJibl"
      },
      "execution_count": 10,
      "outputs": []
    },
    {
      "cell_type": "markdown",
      "source": [
        "# Ejecución de la Red convolucional"
      ],
      "metadata": {
        "id": "Kck55EVE5l11"
      }
    },
    {
      "cell_type": "markdown",
      "source": [
        "Pasamos ya a la red neuronal.\n",
        "Es una red con una capa inicial con función de activacion Relu, un kernel de 3x3 que indicará la ventana que usará la red para ir analizando cada imagen pixel a pixel y 32 neuronas. Se compone de dos capas densas intermedias de 64 y 128 neuronas, con una inicializacion de bias random uniform y los regularizadores del kernel L1 y L2. A su vez, a ambas le siguen capas de maxpooling de 2x2, donde se irá controlando las dimensiones de las propias imagenes y el batch normalization que también ayudará a controlar la extensión de cada batch de datos. Se aplica un dropout del 50% antes de la capa final densa con 6 neuronas y función Softmax para la clasificación, para la eliminación de las neuronas que no vayan cumpliendo con un minimo de accuracy y también se le aplica una capa flatten, para aplanar el conjunto de neuronas restantes a la salida"
      ],
      "metadata": {
        "id": "99Hs797sTqsw"
      }
    },
    {
      "cell_type": "code",
      "source": [
        "# # Construir el modelo CNN -> prueba 2.2\n",
        "model = keras.Sequential([\n",
        "keras.layers.Conv2D(32, kernel_size=(3, 3), input_shape=(img_rows,img_cols, 3), activation='relu'),\n",
        "    keras.layers.BatchNormalization(),\n",
        "    keras.layers.Dense(64, activation='relu',bias_initializer='random_uniform', kernel_regularizer=l1_l2(l1=0.001, l2=0.001)),\n",
        "    keras.layers.MaxPooling2D(pool_size=(2, 2)),\n",
        "    keras.layers.BatchNormalization(),\n",
        "    keras.layers.Dense(128, activation='relu', bias_initializer='random_uniform', kernel_regularizer=l1_l2(l1=0.001, l2=0.001)),\n",
        "    keras.layers.MaxPooling2D(pool_size=(2, 2)),\n",
        "    keras.layers.BatchNormalization(),\n",
        "    # keras.layers.Dense(64, activation='relu', bias_initializer='random_uniform', kernel_regularizer=l1_l2(l1=0.001, l2=0.001)),\n",
        "    # keras.layers.MaxPooling2D(pool_size=(2, 2)),\n",
        "    # keras.layers.BatchNormalization(),\n",
        "    keras.layers.Dropout(0.5),\n",
        "    keras.layers.Flatten(),\n",
        "    keras.layers.Dense(6, activation='softmax')\n",
        "])"
      ],
      "metadata": {
        "id": "mFHmlxD9NIEu"
      },
      "execution_count": 14,
      "outputs": []
    },
    {
      "cell_type": "markdown",
      "source": [
        "Finalmente compilamos el modelo usando el optimizador Adam para su preprocesamiento, loss y metricas usuales (categorical crossentropy y accuracy)"
      ],
      "metadata": {
        "id": "b24yPvbtKuri"
      }
    },
    {
      "cell_type": "code",
      "source": [
        "# Compilar el modelo\n",
        "model.compile(optimizer='adam', loss='categorical_crossentropy', metrics=['accuracy'])\n",
        "# model2.compile(optimizer='adam', loss='categorical_crossentropy', metrics=['accuracy'])\n",
        "\n",
        "# model.compile(optimizer='adam', loss='mse')\n",
        "\n",
        "# Entrenar el modelo\n",
        "history = model.fit(X_train, y_train, epochs=100, batch_size=32, verbose=1, validation_split = 0.02)\n",
        "# history = model2.fit(X_train, y_train, epochs=10, batch_size=32, verbose=1, validation_split = 0.02)\n",
        "\n",
        "# Evaluar el modelo\n",
        "\n",
        "accuracy = model.evaluate(X_test, y_test)[1]\n",
        "# accuracy = model2.evaluate(X_test, y_test)[1]\n",
        "print(f\"Accuracy: {accuracy * 100:.2f}%\")\n",
        "\n",
        "\n",
        "# # Visualización de la precisión y la pérdida durante el entrenamiento\n",
        "# plt.plot(history.history['accuracy'], label='train_accuracy')\n",
        "# plt.plot(history.history['val_accuracy'], label='val_accuracy')\n",
        "# plt.plot(history.history['loss'], label='train_loss')\n",
        "# plt.plot(history.history['val_loss'], label='val_loss')\n",
        "# plt.legend()\n",
        "# plt.show()"
      ],
      "metadata": {
        "id": "Hc6v_-_jFBuQ",
        "colab": {
          "base_uri": "https://localhost:8080/"
        },
        "outputId": "d99cd063-c7ed-4432-b2a8-ee56eeabf0ad"
      },
      "execution_count": 15,
      "outputs": [
        {
          "output_type": "stream",
          "name": "stdout",
          "text": [
            "Epoch 1/100\n",
            "40/40 [==============================] - 19s 393ms/step - loss: 4.7290 - accuracy: 0.2296 - val_loss: 3.7268 - val_accuracy: 0.3077\n",
            "Epoch 2/100\n",
            "40/40 [==============================] - 15s 370ms/step - loss: 2.9783 - accuracy: 0.4127 - val_loss: 2.8059 - val_accuracy: 0.3077\n",
            "Epoch 3/100\n",
            "40/40 [==============================] - 15s 372ms/step - loss: 2.5295 - accuracy: 0.4733 - val_loss: 3.1482 - val_accuracy: 0.3462\n",
            "Epoch 4/100\n",
            "40/40 [==============================] - 16s 405ms/step - loss: 2.3234 - accuracy: 0.5314 - val_loss: 3.2272 - val_accuracy: 0.2692\n",
            "Epoch 5/100\n",
            "40/40 [==============================] - 20s 495ms/step - loss: 2.1531 - accuracy: 0.5770 - val_loss: 3.1750 - val_accuracy: 0.3077\n",
            "Epoch 6/100\n",
            "40/40 [==============================] - 15s 370ms/step - loss: 2.0507 - accuracy: 0.6116 - val_loss: 2.5493 - val_accuracy: 0.4231\n",
            "Epoch 7/100\n",
            "40/40 [==============================] - 15s 374ms/step - loss: 1.9719 - accuracy: 0.6344 - val_loss: 2.9939 - val_accuracy: 0.4231\n",
            "Epoch 8/100\n",
            "40/40 [==============================] - 19s 463ms/step - loss: 1.9521 - accuracy: 0.6494 - val_loss: 3.8410 - val_accuracy: 0.4231\n",
            "Epoch 9/100\n",
            "40/40 [==============================] - 15s 380ms/step - loss: 1.9818 - accuracy: 0.6541 - val_loss: 3.3828 - val_accuracy: 0.3846\n",
            "Epoch 10/100\n",
            "40/40 [==============================] - 16s 413ms/step - loss: 1.8238 - accuracy: 0.6730 - val_loss: 2.7765 - val_accuracy: 0.4615\n",
            "Epoch 11/100\n",
            "40/40 [==============================] - 16s 413ms/step - loss: 1.7825 - accuracy: 0.6816 - val_loss: 2.7341 - val_accuracy: 0.5000\n",
            "Epoch 12/100\n",
            "40/40 [==============================] - 15s 371ms/step - loss: 1.6872 - accuracy: 0.7028 - val_loss: 4.0924 - val_accuracy: 0.4231\n",
            "Epoch 13/100\n",
            "40/40 [==============================] - 16s 392ms/step - loss: 1.6388 - accuracy: 0.6997 - val_loss: 2.9612 - val_accuracy: 0.4231\n",
            "Epoch 14/100\n",
            "40/40 [==============================] - 19s 489ms/step - loss: 1.5596 - accuracy: 0.7358 - val_loss: 2.5663 - val_accuracy: 0.5000\n",
            "Epoch 15/100\n",
            "40/40 [==============================] - 17s 427ms/step - loss: 1.5036 - accuracy: 0.7531 - val_loss: 3.3119 - val_accuracy: 0.5385\n",
            "Epoch 16/100\n",
            "40/40 [==============================] - 16s 411ms/step - loss: 1.5243 - accuracy: 0.7516 - val_loss: 3.2761 - val_accuracy: 0.4615\n",
            "Epoch 17/100\n",
            "40/40 [==============================] - 17s 425ms/step - loss: 1.4745 - accuracy: 0.7516 - val_loss: 3.3088 - val_accuracy: 0.5769\n",
            "Epoch 18/100\n",
            "40/40 [==============================] - 19s 478ms/step - loss: 1.5324 - accuracy: 0.7335 - val_loss: 3.4325 - val_accuracy: 0.3462\n",
            "Epoch 19/100\n",
            "40/40 [==============================] - 15s 378ms/step - loss: 1.4830 - accuracy: 0.7421 - val_loss: 2.9148 - val_accuracy: 0.5000\n",
            "Epoch 20/100\n",
            "40/40 [==============================] - 15s 376ms/step - loss: 1.4604 - accuracy: 0.7539 - val_loss: 3.3978 - val_accuracy: 0.4231\n",
            "Epoch 21/100\n",
            "40/40 [==============================] - 16s 379ms/step - loss: 1.5161 - accuracy: 0.7469 - val_loss: 2.9781 - val_accuracy: 0.3462\n",
            "Epoch 22/100\n",
            "40/40 [==============================] - 15s 371ms/step - loss: 1.4885 - accuracy: 0.7453 - val_loss: 2.8336 - val_accuracy: 0.4231\n",
            "Epoch 23/100\n",
            "40/40 [==============================] - 15s 369ms/step - loss: 1.4747 - accuracy: 0.7437 - val_loss: 3.6322 - val_accuracy: 0.3077\n",
            "Epoch 24/100\n",
            "40/40 [==============================] - 16s 393ms/step - loss: 1.3880 - accuracy: 0.7531 - val_loss: 3.6836 - val_accuracy: 0.4231\n",
            "Epoch 25/100\n",
            "40/40 [==============================] - 15s 378ms/step - loss: 1.3080 - accuracy: 0.7673 - val_loss: 3.4114 - val_accuracy: 0.3077\n",
            "Epoch 26/100\n",
            "40/40 [==============================] - 16s 398ms/step - loss: 1.2837 - accuracy: 0.7893 - val_loss: 3.5440 - val_accuracy: 0.2692\n",
            "Epoch 27/100\n",
            "40/40 [==============================] - 15s 384ms/step - loss: 1.3326 - accuracy: 0.7744 - val_loss: 3.7223 - val_accuracy: 0.4615\n",
            "Epoch 28/100\n",
            "40/40 [==============================] - 15s 369ms/step - loss: 1.3156 - accuracy: 0.7759 - val_loss: 4.0144 - val_accuracy: 0.3462\n",
            "Epoch 29/100\n",
            "40/40 [==============================] - 16s 394ms/step - loss: 1.3223 - accuracy: 0.7712 - val_loss: 3.8747 - val_accuracy: 0.3846\n",
            "Epoch 30/100\n",
            "40/40 [==============================] - 23s 573ms/step - loss: 1.3307 - accuracy: 0.7767 - val_loss: 4.5643 - val_accuracy: 0.3462\n",
            "Epoch 31/100\n",
            "40/40 [==============================] - 17s 426ms/step - loss: 1.3138 - accuracy: 0.7728 - val_loss: 3.4606 - val_accuracy: 0.5385\n",
            "Epoch 32/100\n",
            "40/40 [==============================] - 17s 428ms/step - loss: 1.3021 - accuracy: 0.7712 - val_loss: 4.5873 - val_accuracy: 0.3846\n",
            "Epoch 33/100\n",
            "40/40 [==============================] - 16s 407ms/step - loss: 1.2622 - accuracy: 0.7712 - val_loss: 3.5562 - val_accuracy: 0.3462\n",
            "Epoch 34/100\n",
            "40/40 [==============================] - 15s 384ms/step - loss: 1.2199 - accuracy: 0.7869 - val_loss: 3.2964 - val_accuracy: 0.5385\n",
            "Epoch 35/100\n",
            "40/40 [==============================] - 16s 391ms/step - loss: 1.1698 - accuracy: 0.7948 - val_loss: 4.6123 - val_accuracy: 0.4231\n",
            "Epoch 36/100\n",
            "40/40 [==============================] - 17s 418ms/step - loss: 1.1490 - accuracy: 0.7893 - val_loss: 3.9304 - val_accuracy: 0.5000\n",
            "Epoch 37/100\n",
            "40/40 [==============================] - 15s 376ms/step - loss: 1.1755 - accuracy: 0.7885 - val_loss: 5.0861 - val_accuracy: 0.3462\n",
            "Epoch 38/100\n",
            "40/40 [==============================] - 15s 381ms/step - loss: 1.2486 - accuracy: 0.7689 - val_loss: 3.5910 - val_accuracy: 0.4231\n",
            "Epoch 39/100\n",
            "40/40 [==============================] - 15s 372ms/step - loss: 1.3270 - accuracy: 0.7508 - val_loss: 6.7303 - val_accuracy: 0.3846\n",
            "Epoch 40/100\n",
            "40/40 [==============================] - 17s 435ms/step - loss: 1.2588 - accuracy: 0.7791 - val_loss: 5.7790 - val_accuracy: 0.3077\n",
            "Epoch 41/100\n",
            "40/40 [==============================] - 15s 385ms/step - loss: 1.2239 - accuracy: 0.7869 - val_loss: 3.4570 - val_accuracy: 0.3846\n",
            "Epoch 42/100\n",
            "40/40 [==============================] - 15s 381ms/step - loss: 1.2283 - accuracy: 0.7767 - val_loss: 3.3847 - val_accuracy: 0.5385\n",
            "Epoch 43/100\n",
            "40/40 [==============================] - 16s 395ms/step - loss: 1.1940 - accuracy: 0.7767 - val_loss: 3.2046 - val_accuracy: 0.5000\n",
            "Epoch 44/100\n",
            "40/40 [==============================] - 15s 384ms/step - loss: 1.1967 - accuracy: 0.7893 - val_loss: 3.1596 - val_accuracy: 0.4231\n",
            "Epoch 45/100\n",
            "40/40 [==============================] - 15s 384ms/step - loss: 1.1712 - accuracy: 0.7901 - val_loss: 3.1065 - val_accuracy: 0.5385\n",
            "Epoch 46/100\n",
            "40/40 [==============================] - 16s 386ms/step - loss: 1.1278 - accuracy: 0.7909 - val_loss: 3.4337 - val_accuracy: 0.4615\n",
            "Epoch 47/100\n",
            "40/40 [==============================] - 18s 436ms/step - loss: 1.1347 - accuracy: 0.7932 - val_loss: 3.3843 - val_accuracy: 0.4231\n",
            "Epoch 48/100\n",
            "40/40 [==============================] - 15s 378ms/step - loss: 1.1704 - accuracy: 0.7822 - val_loss: 3.3131 - val_accuracy: 0.3846\n",
            "Epoch 49/100\n",
            "40/40 [==============================] - 15s 377ms/step - loss: 1.0705 - accuracy: 0.8058 - val_loss: 3.1076 - val_accuracy: 0.4615\n",
            "Epoch 50/100\n",
            "40/40 [==============================] - 15s 375ms/step - loss: 1.0532 - accuracy: 0.8097 - val_loss: 2.9546 - val_accuracy: 0.6923\n",
            "Epoch 51/100\n",
            "40/40 [==============================] - 15s 380ms/step - loss: 1.0529 - accuracy: 0.8129 - val_loss: 3.9801 - val_accuracy: 0.4231\n",
            "Epoch 52/100\n",
            "40/40 [==============================] - 15s 383ms/step - loss: 1.0546 - accuracy: 0.7885 - val_loss: 3.5264 - val_accuracy: 0.4615\n",
            "Epoch 53/100\n",
            "40/40 [==============================] - 15s 381ms/step - loss: 1.0018 - accuracy: 0.8074 - val_loss: 3.5157 - val_accuracy: 0.4615\n",
            "Epoch 54/100\n",
            "40/40 [==============================] - 17s 418ms/step - loss: 1.0058 - accuracy: 0.8082 - val_loss: 3.8785 - val_accuracy: 0.5385\n",
            "Epoch 55/100\n",
            "40/40 [==============================] - 15s 380ms/step - loss: 1.0006 - accuracy: 0.8042 - val_loss: 4.2845 - val_accuracy: 0.5000\n",
            "Epoch 56/100\n",
            "40/40 [==============================] - 16s 388ms/step - loss: 0.9738 - accuracy: 0.8192 - val_loss: 3.8198 - val_accuracy: 0.5385\n",
            "Epoch 57/100\n",
            "40/40 [==============================] - 15s 380ms/step - loss: 0.9946 - accuracy: 0.8137 - val_loss: 2.7212 - val_accuracy: 0.5385\n",
            "Epoch 58/100\n",
            "40/40 [==============================] - 16s 390ms/step - loss: 0.9992 - accuracy: 0.8129 - val_loss: 4.9502 - val_accuracy: 0.4615\n",
            "Epoch 59/100\n",
            "40/40 [==============================] - 15s 383ms/step - loss: 0.9792 - accuracy: 0.8050 - val_loss: 3.6130 - val_accuracy: 0.5385\n",
            "Epoch 60/100\n",
            "40/40 [==============================] - 15s 376ms/step - loss: 0.9720 - accuracy: 0.8097 - val_loss: 4.5182 - val_accuracy: 0.4231\n",
            "Epoch 61/100\n",
            "40/40 [==============================] - 17s 420ms/step - loss: 0.9477 - accuracy: 0.8145 - val_loss: 4.3701 - val_accuracy: 0.4615\n",
            "Epoch 62/100\n",
            "40/40 [==============================] - 15s 378ms/step - loss: 0.9452 - accuracy: 0.8208 - val_loss: 3.2672 - val_accuracy: 0.5385\n",
            "Epoch 63/100\n",
            "40/40 [==============================] - 15s 381ms/step - loss: 0.9676 - accuracy: 0.8058 - val_loss: 3.7068 - val_accuracy: 0.5000\n",
            "Epoch 64/100\n",
            "40/40 [==============================] - 15s 379ms/step - loss: 0.9149 - accuracy: 0.8192 - val_loss: 3.6483 - val_accuracy: 0.5769\n",
            "Epoch 65/100\n",
            "40/40 [==============================] - 15s 381ms/step - loss: 0.9488 - accuracy: 0.8231 - val_loss: 2.8850 - val_accuracy: 0.5385\n",
            "Epoch 66/100\n",
            "40/40 [==============================] - 15s 375ms/step - loss: 0.9090 - accuracy: 0.8176 - val_loss: 4.1053 - val_accuracy: 0.4615\n",
            "Epoch 67/100\n",
            "40/40 [==============================] - 15s 369ms/step - loss: 0.9212 - accuracy: 0.8231 - val_loss: 3.2423 - val_accuracy: 0.5000\n",
            "Epoch 68/100\n",
            "40/40 [==============================] - 15s 376ms/step - loss: 0.9499 - accuracy: 0.7925 - val_loss: 3.6381 - val_accuracy: 0.5000\n",
            "Epoch 69/100\n",
            "40/40 [==============================] - 17s 428ms/step - loss: 0.9915 - accuracy: 0.7972 - val_loss: 5.4197 - val_accuracy: 0.5000\n",
            "Epoch 70/100\n",
            "40/40 [==============================] - 15s 382ms/step - loss: 0.9327 - accuracy: 0.8090 - val_loss: 4.9184 - val_accuracy: 0.5000\n",
            "Epoch 71/100\n",
            "40/40 [==============================] - 15s 381ms/step - loss: 0.9622 - accuracy: 0.8105 - val_loss: 4.9378 - val_accuracy: 0.4231\n",
            "Epoch 72/100\n",
            "40/40 [==============================] - 15s 380ms/step - loss: 0.8968 - accuracy: 0.8105 - val_loss: 4.0579 - val_accuracy: 0.5000\n",
            "Epoch 73/100\n",
            "40/40 [==============================] - 15s 375ms/step - loss: 0.8743 - accuracy: 0.8184 - val_loss: 4.6081 - val_accuracy: 0.4615\n",
            "Epoch 74/100\n",
            "40/40 [==============================] - 15s 373ms/step - loss: 0.8579 - accuracy: 0.8294 - val_loss: 4.7802 - val_accuracy: 0.4231\n",
            "Epoch 75/100\n",
            "40/40 [==============================] - 16s 389ms/step - loss: 0.8551 - accuracy: 0.8247 - val_loss: 3.5499 - val_accuracy: 0.4615\n",
            "Epoch 76/100\n",
            "40/40 [==============================] - 17s 416ms/step - loss: 0.8407 - accuracy: 0.8184 - val_loss: 5.5416 - val_accuracy: 0.4615\n",
            "Epoch 77/100\n",
            "40/40 [==============================] - 15s 378ms/step - loss: 0.8891 - accuracy: 0.8192 - val_loss: 4.6787 - val_accuracy: 0.3462\n",
            "Epoch 78/100\n",
            "40/40 [==============================] - 15s 378ms/step - loss: 0.8655 - accuracy: 0.8105 - val_loss: 3.6958 - val_accuracy: 0.3846\n",
            "Epoch 79/100\n",
            "40/40 [==============================] - 15s 379ms/step - loss: 0.9120 - accuracy: 0.8263 - val_loss: 7.2776 - val_accuracy: 0.5385\n",
            "Epoch 80/100\n",
            "40/40 [==============================] - 15s 376ms/step - loss: 0.8359 - accuracy: 0.8270 - val_loss: 8.6937 - val_accuracy: 0.4615\n",
            "Epoch 81/100\n",
            "40/40 [==============================] - 15s 379ms/step - loss: 0.8521 - accuracy: 0.8153 - val_loss: 5.9162 - val_accuracy: 0.4231\n",
            "Epoch 82/100\n",
            "40/40 [==============================] - 16s 389ms/step - loss: 0.8386 - accuracy: 0.8192 - val_loss: 5.2222 - val_accuracy: 0.5385\n",
            "Epoch 83/100\n",
            "40/40 [==============================] - 17s 432ms/step - loss: 0.8417 - accuracy: 0.8302 - val_loss: 6.6401 - val_accuracy: 0.4231\n",
            "Epoch 84/100\n",
            "40/40 [==============================] - 16s 391ms/step - loss: 0.8890 - accuracy: 0.8160 - val_loss: 7.1202 - val_accuracy: 0.5769\n",
            "Epoch 85/100\n",
            "40/40 [==============================] - 15s 374ms/step - loss: 0.9000 - accuracy: 0.8082 - val_loss: 3.5738 - val_accuracy: 0.5769\n",
            "Epoch 86/100\n",
            "40/40 [==============================] - 15s 376ms/step - loss: 1.0658 - accuracy: 0.7917 - val_loss: 4.6743 - val_accuracy: 0.5000\n",
            "Epoch 87/100\n",
            "40/40 [==============================] - 15s 374ms/step - loss: 0.9221 - accuracy: 0.7980 - val_loss: 2.8476 - val_accuracy: 0.6154\n",
            "Epoch 88/100\n",
            "40/40 [==============================] - 15s 382ms/step - loss: 0.9528 - accuracy: 0.8074 - val_loss: 3.1685 - val_accuracy: 0.6538\n",
            "Epoch 89/100\n",
            "40/40 [==============================] - 15s 374ms/step - loss: 0.9080 - accuracy: 0.8042 - val_loss: 3.2089 - val_accuracy: 0.5385\n",
            "Epoch 90/100\n",
            "40/40 [==============================] - 15s 384ms/step - loss: 0.9142 - accuracy: 0.8255 - val_loss: 7.6674 - val_accuracy: 0.4231\n",
            "Epoch 91/100\n",
            "40/40 [==============================] - 16s 393ms/step - loss: 1.0250 - accuracy: 0.7901 - val_loss: 7.9802 - val_accuracy: 0.4231\n",
            "Epoch 92/100\n",
            "40/40 [==============================] - 15s 366ms/step - loss: 0.8841 - accuracy: 0.8184 - val_loss: 8.0048 - val_accuracy: 0.3846\n",
            "Epoch 93/100\n",
            "40/40 [==============================] - 15s 365ms/step - loss: 0.8563 - accuracy: 0.8153 - val_loss: 6.6575 - val_accuracy: 0.4615\n",
            "Epoch 94/100\n",
            "40/40 [==============================] - 15s 367ms/step - loss: 0.8106 - accuracy: 0.8247 - val_loss: 7.5451 - val_accuracy: 0.4231\n",
            "Epoch 95/100\n",
            "40/40 [==============================] - 14s 362ms/step - loss: 0.8086 - accuracy: 0.8113 - val_loss: 5.3895 - val_accuracy: 0.5769\n",
            "Epoch 96/100\n",
            "40/40 [==============================] - 15s 366ms/step - loss: 0.8097 - accuracy: 0.8168 - val_loss: 5.6417 - val_accuracy: 0.5769\n",
            "Epoch 97/100\n",
            "40/40 [==============================] - 15s 366ms/step - loss: 0.7872 - accuracy: 0.8231 - val_loss: 5.6781 - val_accuracy: 0.5000\n",
            "Epoch 98/100\n",
            "40/40 [==============================] - 17s 418ms/step - loss: 0.7648 - accuracy: 0.8318 - val_loss: 6.0732 - val_accuracy: 0.4615\n",
            "Epoch 99/100\n",
            "40/40 [==============================] - 15s 365ms/step - loss: 0.8144 - accuracy: 0.8294 - val_loss: 5.0102 - val_accuracy: 0.5000\n",
            "Epoch 100/100\n",
            "40/40 [==============================] - 15s 367ms/step - loss: 0.8789 - accuracy: 0.8184 - val_loss: 3.5149 - val_accuracy: 0.5385\n",
            "46/46 [==============================] - 5s 112ms/step - loss: 1.9126 - accuracy: 0.7652\n",
            "Accuracy: 76.52%\n"
          ]
        }
      ]
    }
  ]
}