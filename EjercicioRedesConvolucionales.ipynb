{
  "nbformat": 4,
  "nbformat_minor": 0,
  "metadata": {
    "colab": {
      "provenance": [],
      "authorship_tag": "ABX9TyPupJzz0Yoq1xzy1I8QB7Og",
      "include_colab_link": true
    },
    "kernelspec": {
      "name": "python3",
      "display_name": "Python 3"
    },
    "language_info": {
      "name": "python"
    }
  },
  "cells": [
    {
      "cell_type": "markdown",
      "metadata": {
        "id": "view-in-github",
        "colab_type": "text"
      },
      "source": [
        "<a href=\"https://colab.research.google.com/github/JuanArmas/BigData7RO/blob/main/EjercicioRedesConvolucionales.ipynb\" target=\"_parent\"><img src=\"https://colab.research.google.com/assets/colab-badge.svg\" alt=\"Open In Colab\"/></a>"
      ]
    },
    {
      "cell_type": "markdown",
      "source": [
        "# Autor: Juan Armas Aleman\n",
        "\n"
      ],
      "metadata": {
        "id": "CqSwchndldGL"
      }
    },
    {
      "cell_type": "markdown",
      "source": [
        "Github: https://github.com/JuanArmas/BigData7RO/blob/main/EjercicioRedesConvolucionales.ipynb"
      ],
      "metadata": {
        "id": "y55j0NVqlj-T"
      }
    },
    {
      "cell_type": "markdown",
      "source": [
        "Drive: https://drive.google.com/drive/folders/1lrypu655juvWbsoflUMi1A37gNKKawjt?usp=sharing"
      ],
      "metadata": {
        "id": "HIfmSQUrUGyq"
      }
    },
    {
      "cell_type": "code",
      "execution_count": 1,
      "metadata": {
        "id": "5cHn-2CfEA3s"
      },
      "outputs": [],
      "source": [
        "import os\n",
        "import cv2\n",
        "import glob\n",
        "import keras\n",
        "import shutil\n",
        "import random\n",
        "import numpy as np\n",
        "import tensorflow as tf\n",
        "import matplotlib.pyplot as plt\n",
        "\n",
        "from keras import regularizers\n",
        "from google.colab import drive\n",
        "from keras.optimizers import Adam\n",
        "from keras.models import Sequential\n",
        "from keras.utils import to_categorical\n",
        "from keras.regularizers import l1 , l2, l1_l2\n",
        "from keras.layers import Dense, BatchNormalization\n",
        "from sklearn.model_selection import train_test_split\n",
        "from keras.layers import Conv2D, MaxPooling2D, Flatten\n",
        "\n",
        "# from mpl_toolkits.mplot3d import Axes3D\n",
        "\n",
        "\n"
      ]
    },
    {
      "cell_type": "markdown",
      "source": [
        "#Carga y normalización de datos"
      ],
      "metadata": {
        "id": "h4djKhB85hBS"
      }
    },
    {
      "cell_type": "code",
      "source": [
        "# Generamos acceso al drive\n",
        "drive.mount('/content/drive')\n"
      ],
      "metadata": {
        "id": "-JxG1bxSQegh",
        "colab": {
          "base_uri": "https://localhost:8080/"
        },
        "outputId": "cae2c0c3-0843-42d5-dc50-40062cc2756e"
      },
      "execution_count": 2,
      "outputs": [
        {
          "output_type": "stream",
          "name": "stdout",
          "text": [
            "Drive already mounted at /content/drive; to attempt to forcibly remount, call drive.mount(\"/content/drive\", force_remount=True).\n"
          ]
        }
      ]
    },
    {
      "cell_type": "markdown",
      "source": [
        "Carga de los datos del drive y creacion de la carpeta donde se almacenarán las imagenes una vez procesadas y normalizadas"
      ],
      "metadata": {
        "id": "edxSbVDO4ILX"
      }
    },
    {
      "cell_type": "code",
      "source": [
        "# Cargamos la información del drive para poder acceder a ella\n",
        "input_images_path = \"/content/drive/MyDrive/Chess/\"\n",
        "output_images_path = \"/content/drive/MyDrive/ChessProcessed/\"\n",
        "\n",
        "# Crear el directorio de salida si no existe\n",
        "if not os.path.exists(output_images_path):\n",
        "    os.makedirs(output_images_path)\n",
        "    print(\"Directorio creado: \", output_images_path)\n"
      ],
      "metadata": {
        "id": "BqqFMb6wIdBA"
      },
      "execution_count": 3,
      "outputs": []
    },
    {
      "cell_type": "markdown",
      "source": [
        "Obtenemos la lista de carpetas donde estarán las distintas imágenes"
      ],
      "metadata": {
        "id": "sKYhy1Lx4oqW"
      }
    },
    {
      "cell_type": "code",
      "source": [
        "# Listar las carpetas de piezas\n",
        "piece_folders = os.listdir(input_images_path)\n",
        "\n",
        "piece_folders"
      ],
      "metadata": {
        "colab": {
          "base_uri": "https://localhost:8080/"
        },
        "id": "wk9RKuQE4pGs",
        "outputId": "ea2483f3-fa04-4733-dcba-59de273ad5d9"
      },
      "execution_count": 4,
      "outputs": [
        {
          "output_type": "execute_result",
          "data": {
            "text/plain": [
              "['Rook', 'Knight', 'Queen', 'Pawn', 'Bishop', 'King']"
            ]
          },
          "metadata": {},
          "execution_count": 4
        }
      ]
    },
    {
      "cell_type": "markdown",
      "source": [
        "# Estandarizamos todas las imágenes a tamaño 64 x 64\n",
        "\n"
      ],
      "metadata": {
        "id": "5n2mZvqD_5Am"
      }
    },
    {
      "cell_type": "code",
      "source": [
        "# img_rows,img_cols = 128,117\n",
        "img_rows,img_cols = 64,64\n",
        "\n",
        "# Tamaño de las imágenes\n",
        "imagen_ancho = img_rows\n",
        "imagen_alto = img_cols\n",
        "\n",
        "# Número de clases\n",
        "numero_clases = 6\n",
        "imagen_ancho,imagen_alto"
      ],
      "metadata": {
        "id": "_UhLrIRX_5Wj",
        "colab": {
          "base_uri": "https://localhost:8080/"
        },
        "outputId": "d6970239-066f-4f52-9e63-c58dfde32efc"
      },
      "execution_count": 5,
      "outputs": [
        {
          "output_type": "execute_result",
          "data": {
            "text/plain": [
              "(64, 64)"
            ]
          },
          "metadata": {},
          "execution_count": 5
        }
      ]
    },
    {
      "cell_type": "markdown",
      "source": [
        "Las imágenes sintéticas generadas por el Data augmentation, se deberán almacenar en una carpeta predeterminada. Al iniciar el algoritmo este verificará si la carpeta ya existe y si es así, la borrará y la creará de nuevo. Esta medida se toma debido a que las imágenes sintéticas se irán creando cada vez que se ejecute el código y por lo tanto, para evitar su crecimiento exponencial con cada ejecución."
      ],
      "metadata": {
        "id": "sDHl-cM65azx"
      }
    },
    {
      "cell_type": "code",
      "source": [
        "# Crear el directorio de salida si no existe\n",
        "if not os.path.exists(output_images_path):\n",
        "  os.makedirs(output_images_path)\n",
        "else:\n",
        "  shutil.rmtree(output_images_path) #se borrará la carpeta con todo su contenido\n",
        "  os.makedirs(output_images_path) # se creará de nuevo la carpeta vacía"
      ],
      "metadata": {
        "id": "3kLLWDFvXA4T"
      },
      "execution_count": 6,
      "outputs": []
    },
    {
      "cell_type": "markdown",
      "source": [
        "Se definen hiperparámetros y se crean distintas listas donde irán almacenandose las imágenes en distitnos estados de procesamiento.\n",
        "\n",
        "Los hiperparámetros que definimos aquí indican las características de las imágenes. Iniciamos las dimensiones, rangos de brillos y porcentaje de rotación para el Data augmentation."
      ],
      "metadata": {
        "id": "SrwWTn8BXDHJ"
      }
    },
    {
      "cell_type": "code",
      "source": [
        "# definir dimensiones de las imagenes\n",
        "image_size = imagen_ancho,imagen_alto\n",
        "# Lista para almacenar todas las imágenes (todas y redimensionadas)\n",
        "all_images = []\n",
        "resized_image = []\n",
        "\n",
        "# Lista para almacenar todas las etiquetas\n",
        "all_labels = []\n",
        "\n",
        "# Definir las técnicas de Data Augmentation\n",
        "brightness_range = (-0.1, 0.1)\n",
        "rotation_range = 20"
      ],
      "metadata": {
        "id": "Jn9HvDNSXCiH"
      },
      "execution_count": 7,
      "outputs": []
    },
    {
      "cell_type": "markdown",
      "source": [
        "En este bucle es donde se trabaja y modifican las imágenes, es la primera parte de la normalización y tratamiento de datos que le pasaremos a la red neuronal.\n",
        "\n",
        "Inicialmente se recorren todas las carpetas que están dentro de la carpeta input_images_path y se crean rutas a las distintas carpetas para ir accediendo a ellas y extraer las imágenes.\n",
        "\n",
        "Los nombres de estas imágenes se van almacenando en file_name y se va diferenciando las que iteresan de las que no. En este caso, dentro de todos los archivos que se encuentran en la carpeta original, se diferencia entre los que tengan determinadas extensiones de imágenes válidas y se cargan en la lista \"image\".\n",
        "\n",
        "Se redimensionan las imagenes originales a 64x64 y se van añadiendo a las listas las imágenes, y los indices a la lista labels.\n",
        "\n",
        "Sobre las originales aplicamos el aumento de datos sitéticos, aplicando los hiperparámetros para generar distintas muestras. y se redimensionan a la misma escala que los datos originales.\n",
        "\n",
        "Finalmente se añaden estas muestras sintéticas a la lista donde se encuentran los datos originales"
      ],
      "metadata": {
        "id": "nG5ivmciaUJb"
      }
    },
    {
      "cell_type": "code",
      "source": [
        "# Recorrer las carpetas de piezas\n",
        "for label, piece_folder in enumerate(os.listdir(input_images_path)):\n",
        "  piece_path = os.path.join(input_images_path, piece_folder)\n",
        "\n",
        "  # Almacenar las imágenes originales y generar aumentadas\n",
        "  for file_name in os.listdir(piece_path):\n",
        "    if file_name.endswith(('.jpg', '.jpeg', '.png')):\n",
        "      image_path = os.path.join(piece_path, file_name)\n",
        "      image = cv2.imread(image_path, cv2.IMREAD_COLOR)\n",
        "\n",
        "      # Redimensionar la imagen\n",
        "      resized_image = cv2.resize(image, image_size, interpolation=cv2.INTER_AREA)\n",
        "      # print(resized_image.shape)  # Imprime la forma de la imagen actual\n",
        "\n",
        "      # Almacenar imagen original\n",
        "      all_images.append(resized_image)\n",
        "      all_labels.append(int(label))\n",
        "\n",
        "      # Aplicar Data Augmentation (brillo y rotación)\n",
        "      augmented_image_brightness = tf.keras.preprocessing.image.random_brightness(image.copy(), brightness_range, scale=True)\n",
        "      augmented_image_rotation = tf.keras.preprocessing.image.random_rotation(image.copy(), rotation_range)\n",
        "\n",
        "      # Redimensionar las imágenes aumentadas\n",
        "      resized_image_brightness = cv2.resize(augmented_image_brightness, image_size, interpolation=cv2.INTER_AREA)\n",
        "      resized_image_rotation = cv2.resize(augmented_image_rotation, image_size, interpolation=cv2.INTER_AREA)\n",
        "\n",
        "      # Guardar imágenes aumentadas con nombre único\n",
        "      new_file_name_brightness = f\"{file_name}_brightness_{random.randint(1, 1000)}.jpg\"\n",
        "      cv2.imwrite(os.path.join(output_images_path, new_file_name_brightness), resized_image_brightness)\n",
        "      all_images.append(resized_image_brightness)\n",
        "      all_labels.append(int(label))\n",
        "\n",
        "      new_file_name_rotation = f\"{file_name}_rotation_{random.randint(1, 1000)}.jpg\"\n",
        "      cv2.imwrite(os.path.join(output_images_path, new_file_name_rotation), resized_image_rotation)\n",
        "      all_images.append(resized_image_rotation)\n",
        "      all_labels.append(int(label))"
      ],
      "metadata": {
        "id": "vhT6MHAFVqkV"
      },
      "execution_count": 8,
      "outputs": []
    },
    {
      "cell_type": "markdown",
      "source": [
        "Convertimos las listas en arrays de numpy"
      ],
      "metadata": {
        "id": "pnb2a1La_iOq"
      }
    },
    {
      "cell_type": "code",
      "source": [
        "# desordenar las listas con:\n",
        "\n",
        "data = np.array(all_images)\n",
        "labels = np.array(all_labels)\n",
        "\n",
        "perm = np.random.permutation(len(data))\n",
        "data, labels = data[perm], labels[perm]"
      ],
      "metadata": {
        "id": "-ElOlmVh_vEd"
      },
      "execution_count": 9,
      "outputs": []
    },
    {
      "cell_type": "markdown",
      "source": [
        "# División del conjunto de datos train, test, validación"
      ],
      "metadata": {
        "id": "NQMfavAz5vrz"
      }
    },
    {
      "cell_type": "markdown",
      "source": [
        "En este punto generamos los datos de entrenamiento y validación y le asignamos un 80% a entrenamiento y un 20% a repartir entre test y validation."
      ],
      "metadata": {
        "id": "T3wVYubQh7Uu"
      }
    },
    {
      "cell_type": "code",
      "source": [
        "# Codificar las etiquetas categóricamente con el número correcto de clases (6)\n",
        "labels = to_categorical(labels, num_classes=6)\n",
        "\n",
        "split_train = int(0.8 * len(data))  # 80% para entrenamiento\n",
        "split_test = int(0.1 * len(data))  # 10% para test\n",
        "split_val = int(0.1 * len(data))    # 10% para validación\n",
        "\n",
        "# Se marcan las limitaciones en las listas que están destinadas a cada conjunto de datos\n",
        "X_train, y_train = data[:split_train], labels[:split_train]\n",
        "X_val, y_val = data[split_train:split_val], labels[split_train:split_val]\n",
        "X_test, y_test = data[split_val:], labels[split_val:]"
      ],
      "metadata": {
        "id": "xlIpg1EtJibl"
      },
      "execution_count": 10,
      "outputs": []
    },
    {
      "cell_type": "markdown",
      "source": [
        "# Ejecución de la Red convolucional"
      ],
      "metadata": {
        "id": "Kck55EVE5l11"
      }
    },
    {
      "cell_type": "markdown",
      "source": [
        "Pasamos ya a la red neuronal.\n",
        "Es una red con una capa inicial con función de activacion Relu, un kernel de 3x3 que indicará la ventana que usará la red para ir analizando cada imagen pixel a pixel y 32 neuronas. Se compone de dos capas densas intermedias de 64 y 128 neuronas, con una inicializacion de bias random uniform y los regularizadores del kernel L1 y L2, que recordemos que son dos técnicas de regularización que se utilizan para evitar el sobreajuste de la red neuronal. Ambas penalizan la complejidad del modelo. A su vez, a ambas le siguen capas de maxpooling de 2x2, donde se irá controlando las dimensiones de las propias imagenes y el batch normalization que también ayudará a controlar la extensión de cada batch de datos. Se aplica un dropout del 50% antes de la capa final densa con 6 neuronas y función Softmax para la clasificación, para la eliminación de las neuronas que no vayan cumpliendo con un minimo de accuracy y también se le aplica una capa flatten, para aplanar el conjunto de neuronas restantes a la salida"
      ],
      "metadata": {
        "id": "99Hs797sTqsw"
      }
    },
    {
      "cell_type": "code",
      "source": [
        "# # Construir el modelo CNN -> prueba 2.2\n",
        "model = keras.Sequential([\n",
        "keras.layers.Conv2D(32, kernel_size=(3, 3), input_shape=(img_rows,img_cols, 3), activation='relu'),\n",
        "    keras.layers.BatchNormalization(),\n",
        "    keras.layers.Dense(64, activation='relu',bias_initializer='random_uniform', kernel_regularizer=l1_l2(l1=0.001, l2=0.001)),\n",
        "    keras.layers.MaxPooling2D(pool_size=(2, 2)),\n",
        "    keras.layers.BatchNormalization(),\n",
        "    keras.layers.Dense(128, activation='relu', bias_initializer='random_uniform', kernel_regularizer=l1_l2(l1=0.001, l2=0.001)),\n",
        "    keras.layers.MaxPooling2D(pool_size=(2, 2)),\n",
        "    keras.layers.BatchNormalization(),\n",
        "    # keras.layers.Dense(64, activation='relu', bias_initializer='random_uniform', kernel_regularizer=l1_l2(l1=0.001, l2=0.001)),\n",
        "    # keras.layers.MaxPooling2D(pool_size=(2, 2)),\n",
        "    # keras.layers.BatchNormalization(),\n",
        "    keras.layers.Dropout(0.5),\n",
        "    keras.layers.Flatten(),\n",
        "    keras.layers.Dense(6, activation='softmax')\n",
        "])"
      ],
      "metadata": {
        "id": "mFHmlxD9NIEu"
      },
      "execution_count": 11,
      "outputs": []
    },
    {
      "cell_type": "markdown",
      "source": [
        "Finalmente compilamos el modelo usando el optimizador Adam para su preprocesamiento, loss y metricas usuales (categorical crossentropy y accuracy) y mostramos la gráfica de loss y accuracy para los datos de train, test y validation"
      ],
      "metadata": {
        "id": "b24yPvbtKuri"
      }
    },
    {
      "cell_type": "code",
      "source": [
        "# Compilar el modelo\n",
        "model.compile(optimizer='adam', loss='categorical_crossentropy', metrics=['accuracy'])\n",
        "# model2.compile(optimizer='adam', loss='categorical_crossentropy', metrics=['accuracy'])\n",
        "\n",
        "# model.compile(optimizer='adam', loss='mse')\n",
        "\n",
        "# Entrenar el modelo\n",
        "history = model.fit(X_train, y_train, epochs=10, batch_size=32, verbose=1, validation_split = 0.02)\n",
        "# history = model2.fit(X_train, y_train, epochs=10, batch_size=32, verbose=1, validation_split = 0.02)\n",
        "\n",
        "# Evaluar el modelo\n",
        "\n",
        "accuracy = model.evaluate(X_test, y_test)[1]\n",
        "# accuracy = model2.evaluate(X_test, y_test)[1]\n",
        "print(f\"Accuracy: {accuracy * 100:.2f}%\")\n",
        "\n",
        "\n",
        "# Visualización de la precisión y la pérdida durante el entrenamiento\n",
        "plt.plot(history.history['accuracy'], label='train_accuracy')\n",
        "plt.plot(history.history['val_accuracy'], label='val_accuracy')\n",
        "plt.plot(history.history['loss'], label='train_loss')\n",
        "plt.plot(history.history['val_loss'], label='val_loss')\n",
        "plt.legend()\n",
        "plt.show()"
      ],
      "metadata": {
        "id": "Hc6v_-_jFBuQ",
        "colab": {
          "base_uri": "https://localhost:8080/",
          "height": 812
        },
        "outputId": "6e90c6a6-50a4-438a-a8df-cfecd372dec1"
      },
      "execution_count": 12,
      "outputs": [
        {
          "output_type": "stream",
          "name": "stdout",
          "text": [
            "Epoch 1/10\n",
            "40/40 [==============================] - 9s 185ms/step - loss: 5.1071 - accuracy: 0.2335 - val_loss: 5.2683 - val_accuracy: 0.1538\n",
            "Epoch 2/10\n",
            "40/40 [==============================] - 7s 173ms/step - loss: 3.1557 - accuracy: 0.3805 - val_loss: 4.2510 - val_accuracy: 0.1923\n",
            "Epoch 3/10\n",
            "40/40 [==============================] - 6s 149ms/step - loss: 2.5864 - accuracy: 0.5024 - val_loss: 3.7302 - val_accuracy: 0.4231\n",
            "Epoch 4/10\n",
            "40/40 [==============================] - 7s 166ms/step - loss: 2.2611 - accuracy: 0.5770 - val_loss: 3.7009 - val_accuracy: 0.2692\n",
            "Epoch 5/10\n",
            "40/40 [==============================] - 8s 207ms/step - loss: 2.0937 - accuracy: 0.6046 - val_loss: 4.9761 - val_accuracy: 0.2308\n",
            "Epoch 6/10\n",
            "40/40 [==============================] - 7s 174ms/step - loss: 2.1182 - accuracy: 0.6085 - val_loss: 4.8108 - val_accuracy: 0.2308\n",
            "Epoch 7/10\n",
            "40/40 [==============================] - 7s 187ms/step - loss: 2.0358 - accuracy: 0.6266 - val_loss: 4.8750 - val_accuracy: 0.3846\n",
            "Epoch 8/10\n",
            "40/40 [==============================] - 6s 146ms/step - loss: 1.9870 - accuracy: 0.6431 - val_loss: 5.2349 - val_accuracy: 0.5000\n",
            "Epoch 9/10\n",
            "40/40 [==============================] - 7s 187ms/step - loss: 1.8259 - accuracy: 0.6706 - val_loss: 4.6944 - val_accuracy: 0.3846\n",
            "Epoch 10/10\n",
            "40/40 [==============================] - 6s 148ms/step - loss: 1.7602 - accuracy: 0.6855 - val_loss: 5.3180 - val_accuracy: 0.4231\n",
            "46/46 [==============================] - 2s 37ms/step - loss: 2.2914 - accuracy: 0.6324\n",
            "Accuracy: 63.24%\n"
          ]
        },
        {
          "output_type": "display_data",
          "data": {
            "text/plain": [
              "<Figure size 640x480 with 1 Axes>"
            ],
            "image/png": "[encoded data removed]"
          },
          "metadata": {}
        }
      ]
    },
    {
      "cell_type": "markdown",
      "source": [
        "Realizamos la predicción del modelo"
      ],
      "metadata": {
        "id": "VeK-uJUtIrzz"
      }
    },
    {
      "cell_type": "code",
      "source": [
        "# Esta variable contiene un mapeo de número de clase a Pieza.\n",
        "MAP_CHARACTERS = {0: 'Bishop', 1: 'King', 2: 'Knight', 3: 'Pawn', 4: 'Queen', 5: 'Rook'}\n",
        "\n",
        "predictions = model.predict(X_train)\n",
        "\n",
        "# Obtener la predicción para la primera imagen del conjunto de entrenamiento\n",
        "predicted_class = np.argmax(predictions[0])\n",
        "\n",
        "# Imprimir la clase predicha para la primera imagen\n",
        "print(f\"La red predice que la primera imagen pertenece a la clase {predicted_class}\")\n",
        "\n",
        "# Imprimir la probabilidad de la clase predicha\n",
        "print(f\"Probabilidad de la clase predicha: {predictions[0][predicted_class]}\")\n",
        "\n",
        "def show_prediction(image, predicted_class, class_map):\n",
        "  \"\"\"\n",
        "  Muestra la imagen, la clase predicha y el nombre de la clase.\n",
        "\n",
        "  Args:\n",
        "    image: La imagen a mostrar.\n",
        "    predicted_class: El índice de la clase predicha.\n",
        "    class_map: Un mapeo de número de clase a nombre de clase.\n",
        "  \"\"\"\n",
        "\n",
        "  # Mostrar la imagen\n",
        "  plt.imshow(image)\n",
        "  plt.show()\n",
        "\n",
        "  # Obtener el nombre de la clase\n",
        "  class_name = class_map[predicted_class]\n",
        "\n",
        "  # Imprimir la información\n",
        "  print(f\"Clase predicha: {class_name}\")\n",
        "\n",
        "# Mostrar la imagen con la clase predicha\n",
        "show_prediction(X_train[0], predicted_class, MAP_CHARACTERS)"
      ],
      "metadata": {
        "colab": {
          "base_uri": "https://localhost:8080/",
          "height": 519
        },
        "id": "ZzLGzrW3L4WS",
        "outputId": "6db1773f-d57d-465d-eae8-f22dbeaf3f70"
      },
      "execution_count": 13,
      "outputs": [
        {
          "output_type": "stream",
          "name": "stdout",
          "text": [
            "41/41 [==============================] - 2s 36ms/step\n"
          ]
        },
        {
          "output_type": "stream",
          "name": "stderr",
          "text": [
            "WARNING:matplotlib.image:Clipping input data to the valid range for imshow with RGB data ([0..1] for floats or [0..255] for integers).\n"
          ]
        },
        {
          "output_type": "stream",
          "name": "stdout",
          "text": [
            "La red predice que la primera imagen pertenece a la clase 2\n",
            "Probabilidad de la clase predicha: 0.3366257846355438\n"
          ]
        },
        {
          "output_type": "display_data",
          "data": {
            "text/plain": [
              "<Figure size 640x480 with 1 Axes>"
            ],
            "image/png": "[encoded data removed]"
          },
          "metadata": {}
        },
        {
          "output_type": "stream",
          "name": "stdout",
          "text": [
            "Clase predicha: Knight\n"
          ]
        }
      ]
    }
  ]
}